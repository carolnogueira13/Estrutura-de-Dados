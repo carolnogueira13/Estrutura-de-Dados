{
 "cells": [
  {
   "attachments": {},
   "cell_type": "markdown",
   "metadata": {},
   "source": [
    "# Revisão 02 - estrutura condicional Parte 02"
   ]
  },
  {
   "attachments": {},
   "cell_type": "markdown",
   "metadata": {},
   "source": [
    "#### 15) Faça um Programa que peça os 3 lados de um triângulo. O programa deverá informar se os valores podem ser um triângulo. Indique, caso os lados formem um triângulo, se o mesmo é: equilátero, isósceles ou escaleno. Dicas:\n",
    "- Três lados formam um triângulo quando a soma de quaisquer dois lados for maior que o terceiro;\n",
    "- Triângulo Equilátero: três lados iguais;\n",
    "- Triângulo Isósceles: quaisquer dois lados iguais;\n",
    "- Triângulo Escaleno: três lados diferentes;"
   ]
  },
  {
   "cell_type": "code",
   "execution_count": 7,
   "metadata": {},
   "outputs": [
    {
     "name": "stdout",
     "output_type": "stream",
     "text": [
      "Os segmentos informados não formam um triângulo!\n"
     ]
    }
   ],
   "source": [
    "r1 = float(input(\"Primeiro segmento: \"))\n",
    "r2 = float(input(\"Segundo segmento: \"))\n",
    "r3 = float(input(\"Terceiro segmento: \"))\n",
    "\n",
    "if r1 > 0 and r2 > 0 and r3 > 0:\n",
    "    if r1 < r2 + r3 and r2 < r1 + r3 and r3 < r1 + r2:\n",
    "        print(f\"Os segmentos {r1}, {r2} e {r3} formam um triângulo!\")\n",
    "        if r1 == r2 == r3:\n",
    "            print(f\"Os segmentos formam um triângulo equilátero!\")\n",
    "        elif r1 == r2 or r2 == r3 or r3 == r1:\n",
    "            print(f\"Os segmentos formam um triângulo isósceles!\")\n",
    "        else:\n",
    "            print(f\"Os segmentos formam um triângulo escaleno!\")\n",
    "    else:\n",
    "        print(\"Os segmentos informados não formam um triângulo!\")\n",
    "else:\n",
    "    print(\"Os segmentos informados não formam um triângulo!\")"
   ]
  },
  {
   "attachments": {},
   "cell_type": "markdown",
   "metadata": {},
   "source": [
    "#### 16) Faça um programa que calcule as raízes de uma equação do segundo grau, na forma ax2 + bx + c. O programa deverá pedir os valores de a, b e c e fazer as consistências, informando ao usuário nas seguintes situações:\n",
    "- Se o usuário informar o valor de A igual a zero, a equação não é do segundo grau e o programa não deve fazer pedir os demais valores, sendo encerrado;\n",
    "- Se o delta calculado for negativo, a equação não possui raizes reais. Informe ao usuário e encerre o programa;\n",
    "- Se o delta calculado for igual a zero a equação possui apenas uma raiz real; informe-a ao usuário;\n",
    "- Se o delta for positivo, a equação possui duas raiz reais; informe-as ao usuário;"
   ]
  },
  {
   "cell_type": "code",
   "execution_count": 12,
   "metadata": {},
   "outputs": [
    {
     "name": "stdout",
     "output_type": "stream",
     "text": [
      "Programa de cálculo de raízes de equação de 2º\n",
      "A equação não possui raízes reais!\n"
     ]
    }
   ],
   "source": [
    "print(\"Programa de cálculo de raízes de equação de 2º\")\n",
    "\n",
    "import math\n",
    "a = float(input('Insira o valor de a: '))\n",
    "\n",
    "if a == 0:\n",
    "    print('Essa não é uma equação do segundo grau')\n",
    "\n",
    "b = float(input('Insira o valor de b: '))\n",
    "c = float(input('Insira o valor de c: '))\n",
    "baskara = (b ** 2) - (4 * a * c)\n",
    "\n",
    "\n",
    "\n",
    "if baskara < 0:\n",
    "    print('A equação não possui raízes reais!')\n",
    "elif baskara == 0:\n",
    "    R = (-b) / (2*a)\n",
    "    print(f\"Essa equação possui apenas uma raíz real:\")\n",
    "    print(f\"R = {R:.2f}\")\n",
    "\n",
    "else:\n",
    "    R = math.sqrt(baskara)\n",
    "    R1 = ((- b) + R) / (2 * a)\n",
    "    R2 = ((- b) - R) / (2 * a)\n",
    "    print(\"Essa equação possui duas raízes reais: \")\n",
    "    print(f\"R1 = {R1:.2f}\")\n",
    "    print(f\"R2 = {R2:.2f}\")"
   ]
  },
  {
   "attachments": {},
   "cell_type": "markdown",
   "metadata": {},
   "source": [
    "#### 17) Faça um Programa que peça um número correspondente a um determinado ano e em seguida informe se este ano é ou não bissexto."
   ]
  },
  {
   "cell_type": "code",
   "execution_count": 15,
   "metadata": {},
   "outputs": [
    {
     "name": "stdout",
     "output_type": "stream",
     "text": [
      "O ano 2004 é bissexto! \n"
     ]
    }
   ],
   "source": [
    "\n",
    "ano = int(input(\"Insira o ano que deseja analisar: \"))\n",
    "\n",
    "if ano % 4 == 0 and ano % 100 != 0 or ano % 400 == 0:  # divisivel por 4 E não divisivel por 100 ou divisivel por 400\n",
    "    print(f\"O ano {ano} é bissexto! \")\n",
    "else:\n",
    "    print(f\"O ano {ano} não é bissexto! \")"
   ]
  },
  {
   "attachments": {},
   "cell_type": "markdown",
   "metadata": {},
   "source": [
    "#### 18) Faça um Programa que peça uma data no formato dd/mm/aaaa e determine se a mesma é uma data válida."
   ]
  },
  {
   "cell_type": "code",
   "execution_count": 30,
   "metadata": {},
   "outputs": [
    {
     "name": "stdout",
     "output_type": "stream",
     "text": [
      "Data válida!\n"
     ]
    }
   ],
   "source": [
    "data = str(input(\"Insira uma data no formato (dd/MM/aaaa): \"))\n",
    "data_separada = data.split(sep=\"/\")\n",
    "\n",
    "\n",
    "if int(data_separada[0]) in range(32) and int(data_separada[1]) in range(13) and int(data_separada[2]) in range(2024):\n",
    "    print(f\"Data válida!\")\n",
    "else:\n",
    "    print(f\"Data inválida!\")\n",
    "    \n",
    "# Revisar depois acho que esse programa pode ser melhorado. \n"
   ]
  },
  {
   "attachments": {},
   "cell_type": "markdown",
   "metadata": {},
   "source": [
    "#### 19) Faça um Programa que leia um número inteiro menor que 1000 e imprima a quantidade de centenas, dezenas e unidades do mesmo. Observando os termos no plural a colocação do \"e\", da vírgula entre outros. Exemplo:\n",
    "- 326 = 3 centenas, 2 dezenas e 6 unidades\n",
    "- 12 = 1 dezena e 2 unidades \n",
    "- Testar com: 326, 300, 100, 320, 310,305, 301, 101, 311, 111, 25, 20, 10, 21, 11, 1, 7 e 16"
   ]
  },
  {
   "cell_type": "code",
   "execution_count": 72,
   "metadata": {},
   "outputs": [
    {
     "name": "stdout",
     "output_type": "stream",
     "text": [
      "8 = 8 unidades\n"
     ]
    }
   ],
   "source": [
    "numero = int(input(\"Digite um numero de 0 a 999: \"))\n",
    "dicionario = {}\n",
    "\n",
    "saida = f'{numero} = '\n",
    "\n",
    "if numero >= 100:\n",
    "    centenas = numero // 100\n",
    "    if centenas > 1:\n",
    "        dicionario[\"centenas\"] = centenas\n",
    "    else:\n",
    "        dicionario[\"centena\"] = centenas\n",
    "    numero -= (centenas * 100)\n",
    "\n",
    "if numero >= 10:\n",
    "    dezenas = numero // 10\n",
    "    if dezenas > 1:\n",
    "        dicionario[\"dezenas\"] = dezenas\n",
    "    else:\n",
    "        dicionario[\"dezena\"] = dezenas\n",
    "    numero -= (dezenas * 10)\n",
    "\n",
    "if numero >= 1:\n",
    "    unidades = numero\n",
    "    if unidades > 1:\n",
    "        dicionario[\"unidades\"] = unidades\n",
    "    else:\n",
    "        dicionario[\"unidade\"] = unidades\n",
    "\n",
    "\n",
    "for i, (unidade, valor) in enumerate(dicionario.items()):\n",
    "    if i == 0:\n",
    "        saida += f\"{valor} {unidade}\"\n",
    "    elif i == len(dicionario) - 1:\n",
    "        saida += f\" e {valor} {unidade}\"\n",
    "    else:\n",
    "        saida += f\", {valor} {unidade}\"\n",
    "\n",
    "print(saida)\n",
    "\n",
    "    "
   ]
  },
  {
   "attachments": {},
   "cell_type": "markdown",
   "metadata": {},
   "source": [
    "### 20) Faça um Programa para leitura de três notas parciais de um aluno. O programa deve calcular a média alcançada por aluno e presentar:\n",
    "-  mensagem \"Aprovado\", se a média for maior ou igual a 7, com a respectiva média alcançada;\n",
    "- A mensagem \"Reprovado\", se a média for menor do que 7, com a respectiva média alcançada;\n",
    "- A mensagem \"Aprovado com Distinção\", se a média for igual a 10."
   ]
  },
  {
   "cell_type": "code",
   "execution_count": 77,
   "metadata": {},
   "outputs": [
    {
     "name": "stdout",
     "output_type": "stream",
     "text": [
      "Média = 5.00. Reprovado.\n"
     ]
    }
   ],
   "source": [
    "nota1 = float(input(\"Digite a primeira nota do estudante: \"))\n",
    "nota2 = float(input(\"Digite a segunda nota do estudante: \"))\n",
    "nota3 = float(input(\"Digite a segunda nota do estudante: \"))\n",
    "media = (nota1 + nota2 + nota3)/3\n",
    "print(f\"Média = {media:.2f}. \", end=\"\")\n",
    "if media == 10:\n",
    "    print(\"Aprovado com distinção.\")\n",
    "elif media >= 7:\n",
    "    print(f\"Aprovado.\")\n",
    "else:\n",
    "    print(f\"Reprovado.\")"
   ]
  },
  {
   "attachments": {},
   "cell_type": "markdown",
   "metadata": {},
   "source": [
    "### 21) Faça um Programa para um caixa eletrônico. O programa deverá perguntar ao usuário a valor do saque e depois informar quantas notas de cada valor serão fornecidas. As notas disponíveis serão as de 1, 5, 10, 50 e 100 reais. O valor mínimo é de 10 reais e o máximo de 600 reais. O programa não deve se preocupar com a quantidade de notas existentes na máquina.\n",
    "- Exemplo 1: Para sacar a quantia de 256 reais, o programa fornece duas notas de 100, uma nota de 50, uma nota de 5 e uma nota de 1;\n",
    "- Exemplo 2: Para sacar a quantia de 399 reais, o programa fornece três notas de 100, uma nota de 50, quatro notas de 10, uma nota de 5 e quatro notas de 1."
   ]
  },
  {
   "cell_type": "code",
   "execution_count": 85,
   "metadata": {},
   "outputs": [
    {
     "name": "stdout",
     "output_type": "stream",
     "text": [
      "Para o saque de R$399, utilize 3 notas de 100, 1 nota de 50, 4 notas de 10, 1 nota de 5 e 4 notas de 1\n"
     ]
    }
   ],
   "source": [
    "numero = int(input(\"Qual valor você quer sacar [entre 10 e 600 reais]? R$ \"))\n",
    "\n",
    "dicionario = {}\n",
    "\n",
    "saida = f'Para o saque de R${numero}, utilize '\n",
    "\n",
    "if numero >= 100:\n",
    "    cedulasde100 = numero // 100\n",
    "    if cedulasde100 > 1:\n",
    "        dicionario[\"notas de 100\"] = cedulasde100\n",
    "    else:\n",
    "        dicionario[\"nota de 100\"] = cedulasde100\n",
    "    numero -= (cedulasde100 * 100)\n",
    "\n",
    "if numero >= 50:\n",
    "    cedulasde50 = numero // 50\n",
    "    if cedulasde50 > 1:\n",
    "        dicionario[\"notas de 50\"] = cedulasde50\n",
    "    else:\n",
    "        dicionario[\"nota de 50\"] = cedulasde50\n",
    "    numero -= (cedulasde50 * 50)\n",
    "\n",
    "if numero >= 10:\n",
    "    cedulasde10 = numero // 10\n",
    "    if cedulasde10 > 1:\n",
    "        dicionario[\"notas de 10\"] = cedulasde10 \n",
    "    else:\n",
    "        dicionario[\"nota de 10\"] = cedulasde10\n",
    "    numero -= (cedulasde10 * 10)\n",
    "        \n",
    "if numero >= 5:\n",
    "    cedulasde5 = numero // 5\n",
    "    if cedulasde5 > 1:\n",
    "        dicionario[\"notas de 5\"] = cedulasde5\n",
    "    else:\n",
    "        dicionario[\"nota de 5\"] = cedulasde5\n",
    "    numero -= (cedulasde5 * 5)\n",
    "\n",
    "if numero >= 1:\n",
    "    cedulasde1 = numero // 1\n",
    "    if cedulasde1 > 1:\n",
    "        dicionario[\"notas de 1\"] = cedulasde1\n",
    "    else:\n",
    "        dicionario[\"nota de 1\"] = cedulasde1\n",
    "    numero -= (cedulasde1 * 1)\n",
    "\n",
    "\n",
    "for i, (unidade, valor) in enumerate(dicionario.items()):\n",
    "    if i == 0:\n",
    "        saida += f\"{valor} {unidade}\"\n",
    "    elif i == len(dicionario) - 1:\n",
    "        saida += f\" e {valor} {unidade}\"\n",
    "    else:\n",
    "        saida += f\", {valor} {unidade}\"\n",
    "\n",
    "print(saida)\n"
   ]
  },
  {
   "attachments": {},
   "cell_type": "markdown",
   "metadata": {},
   "source": [
    "#### 22) Faça um Programa que peça um número inteiro e determine se ele é par ou impar. Dica: utilize o operador módulo (resto da divisão)"
   ]
  },
  {
   "cell_type": "code",
   "execution_count": 88,
   "metadata": {},
   "outputs": [
    {
     "name": "stdout",
     "output_type": "stream",
     "text": [
      "O número é par!\n"
     ]
    }
   ],
   "source": [
    "num = int(input(\"Insira um número: \"))\n",
    "\n",
    "if num % 2 == 0:\n",
    "    print(\"O número é par!\")\n",
    "else:\n",
    "    print(\"O número é ímpar!\")"
   ]
  },
  {
   "attachments": {},
   "cell_type": "markdown",
   "metadata": {},
   "source": [
    "#### 23) Faça um Programa que peça um número e informe se o número é inteiro ou decimal. Dica: utilize uma função de arredondamento."
   ]
  },
  {
   "cell_type": "code",
   "execution_count": 90,
   "metadata": {},
   "outputs": [
    {
     "name": "stdout",
     "output_type": "stream",
     "text": [
      "O número digitado 1.5 é decimal!\n"
     ]
    }
   ],
   "source": [
    "num = float(input(\"Insira um número: \"))\n",
    "\n",
    "num_round = round(num)\n",
    "\n",
    "if num == num_round:\n",
    "    print(f\"O número digitado {num} é inteiro!\")\n",
    "else:\n",
    "    print(f\"O número digitado {num} é decimal!\")"
   ]
  },
  {
   "attachments": {},
   "cell_type": "markdown",
   "metadata": {},
   "source": [
    "#### 24) Faça um Programa que leia 2 números e em seguida pergunte ao usuário qual operação ele deseja realizar. O resultado da operação deve ser acompanhado de uma frase que diga se o número é:\n",
    "- par ou ímpar;\n",
    "- positivo ou negativo;\n",
    "- inteiro ou decimal."
   ]
  },
  {
   "cell_type": "code",
   "execution_count": 95,
   "metadata": {},
   "outputs": [
    {
     "name": "stdout",
     "output_type": "stream",
     "text": [
      "Opção inválida\n"
     ]
    }
   ],
   "source": [
    "def par_ou_impar(num):\n",
    "    if num % 2 == 0:\n",
    "        print(f\"{num} é par!\")\n",
    "    else:\n",
    "        print(f\"{num} é ímpar!\")\n",
    "\n",
    "\n",
    "\n",
    "def positivo_ou_negativo (num):\n",
    "    if num > 0:\n",
    "        print(f\"O {num} é positivo\")\n",
    "    elif num < 0:\n",
    "        print(f\"O {num} é negativo\")\n",
    "    else:\n",
    "        print(f\"O {num} é igual a zero\")\n",
    "        \n",
    "\n",
    "def inteiro_ou_decimal(num):\n",
    "    num_round = round(num)\n",
    "\n",
    "    if num == num_round:\n",
    "        print(f\"O número digitado {num} é inteiro!\")\n",
    "    else:\n",
    "        print(f\"O número digitado {num} é decimal!\")\n",
    "        \n",
    "\n",
    "# Programa principal\n",
    "num1 = float(input(\"Insira um número: \"))\n",
    "num2 = float(input(\"Insira um número: \"))\n",
    "\n",
    "resp = str(input(\"\"\"Escolha uma das operaçõe para realizar com esses números:\n",
    "a - par ou ímpar, \n",
    "b - positivo ou negativo, \n",
    "c - inteiro ou decimal\n",
    "Sua opção é: \"\"\")).upper().strip()  # Três aspas para várias linhas\n",
    "\n",
    "if resp == \"A\":\n",
    "    par_ou_impar(num1)\n",
    "    par_ou_impar(num2)\n",
    "elif resp == \"B\":\n",
    "    positivo_ou_negativo(num1)\n",
    "    positivo_ou_negativo(num2)\n",
    "elif resp == \"C\":\n",
    "    inteiro_ou_decimal(num1)\n",
    "    inteiro_ou_decimal(num2)\n",
    "else:\n",
    "    print(\"Opção inválida\")\n"
   ]
  },
  {
   "attachments": {},
   "cell_type": "markdown",
   "metadata": {},
   "source": [
    "#### 25) Faça um programa que faça 5 perguntas para uma pessoa sobre um crime. As perguntas são:\n",
    "- \"Telefonou para a vítima?\"\n",
    "- \"Esteve no local do crime?\"\n",
    "- \"Mora perto da vítima?\"\n",
    "- \"Devia para a vítima?\"\n",
    "- \"Já trabalhou com a vítima?\" \n",
    "#### O programa deve no final emitir uma classificação sobre a participação da pessoa no crime. Se a pessoa responder positivamente a 2 questões ela deve ser classificada como \"Suspeita\", entre 3 e 4 como \"Cúmplice\" e 5 como \"Assassino\". Caso contrário, ele será classificado como \"Inocente\"."
   ]
  },
  {
   "cell_type": "code",
   "execution_count": 97,
   "metadata": {},
   "outputs": [
    {
     "name": "stdout",
     "output_type": "stream",
     "text": [
      "Assasssino\n"
     ]
    }
   ],
   "source": [
    "perguntas = [\"Telefonou para a vítima? [S/N]\",\n",
    "             \"Esteve no local do crime? [S/N]\",\n",
    "             \"Mora perto da vitima? [S/N]\",\n",
    "             \"Devia para a vitima? [S/N]\",\n",
    "             \"Já trabalhou com a vítima? [S/N]\"]\n",
    "\n",
    "positivo = 0\n",
    "\n",
    "for item in perguntas:\n",
    "    resp = \" \"\n",
    "    while resp not in (\"S\", \"N\"):\n",
    "        resp = input(item).upper()[0]\n",
    "    if resp == \"S\":\n",
    "        positivo += 1\n",
    "\n",
    "if positivo == 2:\n",
    "    print(\"Suspeita\")\n",
    "elif positivo in (3, 4):\n",
    "    print(\"Cúmplice\")\n",
    "elif positivo == 5:\n",
    "    print(\"Assasssino\")\n",
    "else:\n",
    "    print(\"Inocente\")\n"
   ]
  },
  {
   "attachments": {},
   "cell_type": "markdown",
   "metadata": {},
   "source": [
    "#### 26) Um posto está vendendo combustíveis com a seguinte tabela de descontos:\n",
    "#### Álcool:\n",
    "- até 20 litros, desconto de 3% por litro\n",
    "- acima de 20 litros, desconto de 5% por litro\n",
    "\n",
    "#### Gasolina:\n",
    "- até 20 litros, desconto de 4% por litro\n",
    "- acima de 20 litros, desconto de 6% por litro \n",
    "\n",
    "#### Escreva um algoritmo que leia o número de litros vendidos, o tipo de combustível (codificado da seguinte forma: A-álcool, G-gasolina), calcule e imprima o valor a ser pago pelo cliente sabendo-se que o preço do litro da gasolina é R$ 2,50 o preço do litro do álcool é R$ 1,90."
   ]
  },
  {
   "cell_type": "code",
   "execution_count": 102,
   "metadata": {},
   "outputs": [
    {
     "name": "stdout",
     "output_type": "stream",
     "text": [
      "Opção de combustível escolhida inválida!\n"
     ]
    }
   ],
   "source": [
    "combustivel = str(input(\"Qual o combustível [A-Álcool/G-Gasolina]: \")).strip().upper()[0]\n",
    "litros = float(input(\"Quantos litros deseja comprar? \"))\n",
    "\n",
    "if combustivel == \"A\":\n",
    "    preco = litros * 1.90\n",
    "    if litros > 20:\n",
    "        preco = 0.95 * preco\n",
    "    else:\n",
    "        preco = 0.97 * preco\n",
    "    print(f\"O valor pago pelo cliente será de R${preco:.2f}\")\n",
    "elif combustivel == \"G\":\n",
    "    preco = litros * 2.5\n",
    "    if litros > 20:\n",
    "        preco = 0.94 * preco\n",
    "    else:\n",
    "        preco = 0.96 * preco\n",
    "    print(f\"O valor pago pelo cliente será de R${preco:.2f}\")\n",
    "else:\n",
    "    print(\"Opção de combustível escolhida inválida!\")\n",
    "    "
   ]
  },
  {
   "attachments": {},
   "cell_type": "markdown",
   "metadata": {},
   "source": [
    "#### 27) Uma fruteira está vendendo frutas com a seguinte tabela de preços:\n",
    "\n",
    "- Morangos (até 5 kg - R$ 2,50 por Kg ) Acima de 5 Kg - R$ 2,20 por Kg \n",
    "- Maçã     (até 5 kg - R$ 1,80 por Kg ) Acima de 5 Kg - R$ 1,50 por Kg                    \n",
    "#### Se o cliente comprar mais de 8 Kg em frutas ou o valor total da compra ultrapassar R$ 25,00, receberá ainda um desconto de 10% sobre este total. \n",
    "##### Escreva um algoritmo para ler a quantidade (em Kg) de morangos e a quantidade (em Kg) de maças adquiridas e escreva o valor a ser pago pelo cliente."
   ]
  },
  {
   "cell_type": "code",
   "execution_count": 103,
   "metadata": {},
   "outputs": [
    {
     "name": "stdout",
     "output_type": "stream",
     "text": [
      "Essa compra para o cliente terá o valor de R$17.1\n"
     ]
    }
   ],
   "source": [
    "morangos = float(input(\"Digite a quantidade em kg de morangos para a compra: \"))\n",
    "macas = float(input(\"Digite a quantidade em kg de maças para a compra: \"))\n",
    "\n",
    "kgtotais = morangos + macas\n",
    "preco = 0\n",
    "\n",
    "if morangos > 5:\n",
    "    preco += 2.2 * morangos\n",
    "else:\n",
    "    preco += 2.5 * morangos\n",
    "    \n",
    "if macas > 5:\n",
    "    preco += 1.5 * macas\n",
    "else:\n",
    "    preco += 1.8 * macas\n",
    "    \n",
    "if kgtotais > 8 or preco > 25:\n",
    "    preco = 0.90 * preco\n",
    "    \n",
    "print(f\"Essa compra para o cliente terá o valor de R${preco}\")"
   ]
  },
  {
   "attachments": {},
   "cell_type": "markdown",
   "metadata": {},
   "source": [
    "#### 28) O Hipermercado Tabajara está com uma promoção de carnes que é imperdível. Confira:\n",
    "- File Duplo (Até 5 Kg - R$ 4,90 por kg) Acima de 5 Kg - R$ 5,80 por kg\n",
    "- Alcatra (Até 5 Kg - R$ 5,90 por kg) Acima de 5 Kg - R$ 6,80 por kg\n",
    "- Picanha (Até 5 Kg - R$ 6,90 por kg) Acima de 5 Kg - R$ 7,80 por kg\n",
    "\n",
    "#### Para atender a todos os clientes, cada cliente poderá levar apenas um dos tipos de carne da promoção, porém não há limites para a quantidade de carne por cliente. Se compra for feita no cartão Tabajara o cliente receberá ainda um desconto de 5% sobre o total da compra. Escreva um programa que peça o tipo e a quantidade de carne comprada pelo usuário e gere um cupom fiscal, contendo as informações da compra: tipo e quantidade de carne, preço total, tipo de pagamento, valor do desconto e valor a pagar."
   ]
  },
  {
   "cell_type": "code",
   "execution_count": 106,
   "metadata": {},
   "outputs": [
    {
     "name": "stdout",
     "output_type": "stream",
     "text": [
      "NOTA DE PAGAMENTO\n",
      "File Duplo: 8.0kg \n",
      "Pagamento: Desconhecido\n",
      "Desconto: R$0.00\n",
      "Valor total: R$46.40\n"
     ]
    }
   ],
   "source": [
    "tipo = int(input(\"\"\"Escolha uma das carnes para a compra:\n",
    "1 - File Duplo, \n",
    "2 - Alcatra, \n",
    "3 - Picanha\n",
    "Sua opção é: \"\"\"))\n",
    "\n",
    "quantidade = float(input(\"Qual a quantidade de carne comprada? \"))\n",
    "cartao = str(input(\"Você realizou a cartão Tabajara nessa compra [S-Sim/N-Não]: \")).strip().upper()[0]\n",
    "\n",
    "desconto = preco = 0\n",
    "\n",
    "if tipo == 1:\n",
    "    carne = \"File Duplo\"\n",
    "    if quantidade > 5:\n",
    "        preco = 5.8 * quantidade\n",
    "    else:\n",
    "        preco = 4.9 * quantidade\n",
    "elif tipo == 2:\n",
    "    carne = \"Alcatra\"\n",
    "    if quantidade > 5:\n",
    "        preco = 6.8 * quantidade\n",
    "    else:\n",
    "        preco = 5.9 * quantidade\n",
    "elif tipo == 3:\n",
    "    carne = \"Picanha\"\n",
    "    if quantidade > 5:\n",
    "        preco = 7.8 * quantidade\n",
    "    else:\n",
    "        preco = 6.9 * quantidade\n",
    "else:\n",
    "    print(\"Tipo de carne não encontrado\")\n",
    "\n",
    "if cartao == \"S\":\n",
    "    pagamento = \"Cartão Tabajara\"\n",
    "    desconto = preco * 0.05\n",
    "else: \n",
    "    pagamento = \"Desconhecido\"       \n",
    "    \n",
    "if tipo in range(1,4):\n",
    "    print(\"NOTA DE PAGAMENTO\")\n",
    "    print(f\"{carne}: {quantidade}kg \")\n",
    "    print(f\"Pagamento: {pagamento}\")\n",
    "    print(f\"Desconto: R${desconto:.2f}\")\n",
    "    print(f\"Valor total: R${(preco - desconto):.2f}\")\n"
   ]
  }
 ],
 "metadata": {
  "kernelspec": {
   "display_name": "Python 3",
   "language": "python",
   "name": "python3"
  },
  "language_info": {
   "codemirror_mode": {
    "name": "ipython",
    "version": 3
   },
   "file_extension": ".py",
   "mimetype": "text/x-python",
   "name": "python",
   "nbconvert_exporter": "python",
   "pygments_lexer": "ipython3",
   "version": "3.11.1"
  },
  "orig_nbformat": 4
 },
 "nbformat": 4,
 "nbformat_minor": 2
}
