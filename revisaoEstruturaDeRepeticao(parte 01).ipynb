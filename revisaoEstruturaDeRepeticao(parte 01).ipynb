{
 "cells": [
  {
   "attachments": {},
   "cell_type": "markdown",
   "metadata": {},
   "source": [
    "# Revisão 03 - estrutura de repetição Parte 01"
   ]
  },
  {
   "attachments": {},
   "cell_type": "markdown",
   "metadata": {},
   "source": [
    "#### 1) Faça um programa que peça uma nota, entre zero e dez. Mostre uma mensagem caso o valor seja inválido e continue pedindo até que o usuário informe um valor válido."
   ]
  },
  {
   "cell_type": "code",
   "execution_count": null,
   "metadata": {},
   "outputs": [],
   "source": [
    "import numpy as np\n",
    "\n",
    "nota = float(input(\"Informe a sua nota: \"))\n",
    "while nota not in np.arange(0.00,10.01,0.01):\n",
    "    print(\"Nota inválida\")\n",
    "    nota = float(input(\"Informe a sua nota: \"))\n",
    "print(f\"A nota {nota} foi registrada com sucesso!\")\n"
   ]
  },
  {
   "attachments": {},
   "cell_type": "markdown",
   "metadata": {},
   "source": [
    "#### 2) Faça um programa que leia um nome de usuário e a sua senha e não aceite a senha igual ao nome do usuário, mostrando uma mensagem de erro e voltando a pedir as informações."
   ]
  },
  {
   "cell_type": "code",
   "execution_count": null,
   "metadata": {},
   "outputs": [],
   "source": [
    "usuario = str(input(\"Nome de usuário: \")).strip()\n",
    "while True:\n",
    "    senha = str(input(\"Senha: \")).strip()\n",
    "    if senha != usuario:\n",
    "        break\n",
    "    print(\"Sua senha não pode ser igual a nome de usuário.\")\n",
    "print(f\"Cadastro rezalizado com sucesso!\")\n",
    "    "
   ]
  },
  {
   "attachments": {},
   "cell_type": "markdown",
   "metadata": {},
   "source": [
    "### 3) Faça um programa que leia e valide as seguintes informações:\n",
    "- Nome: maior que 3 caracteres;\n",
    "- Idade: entre 0 e 150;\n",
    "- Salário: maior que zero;\n",
    "- Sexo: 'f' ou 'm';\n",
    "- Estado Civil: 's', 'c', 'v', 'd';"
   ]
  },
  {
   "cell_type": "code",
   "execution_count": null,
   "metadata": {},
   "outputs": [],
   "source": [
    "nome = sexo = estadoCivil = \" \"\n",
    "\n",
    "while len(nome) < 3:\n",
    "    nome = str(input(\"Nome: \")).strip()\n",
    "\n",
    "idade = int(input(\"Idade: \"))\n",
    "while idade not in range(0,151):\n",
    "    idade = int(input(\"Idade: \"))\n",
    "\n",
    "salario = float(input(\"Salário : R$ \"))\n",
    "while salario < 0:\n",
    "    salario = float(input(\"Salário: R$ \"))\n",
    "\n",
    "while sexo not in \"MF\":\n",
    "    sexo = str(input(\"Sexo: [M/F] \")).upper().strip()[0]\n",
    "\n",
    "while estadoCivil not in \"SCVD\":\n",
    "    estadoCivil = str(input(\"Estado civil: [S-Solteiro/C-Casado/V-Víuvo/D-Divorciado]: \")).upper().strip()[0]\n",
    "\n",
    "print(\"DADOS CADASTRADOS\")\n",
    "print(f\"Nome: {nome}\")\n",
    "print(f\"Idade: {idade} anos\")\n",
    "print(f\"Salário: R${salario}\")\n",
    "print(f\"Sexo: {sexo}\")\n",
    "print(f\"Estado civil: {estadoCivil}\")\n",
    "\n",
    "\n",
    "\n",
    "    "
   ]
  },
  {
   "attachments": {},
   "cell_type": "markdown",
   "metadata": {},
   "source": [
    "#### 4) Supondo que a população de um país A seja da ordem de 80000 habitantes com uma taxa anual de crescimento de 3% e que a população de B seja 200000 habitantes com uma taxa de crescimento de 1.5%. Faça um programa que calcule e escreva o número de anos necessários para que a população do país A ultrapasse ou iguale a população do país B, mantidas as taxas de crescimento."
   ]
  },
  {
   "cell_type": "code",
   "execution_count": null,
   "metadata": {},
   "outputs": [],
   "source": []
  },
  {
   "attachments": {},
   "cell_type": "markdown",
   "metadata": {},
   "source": [
    "#### 5) "
   ]
  },
  {
   "cell_type": "code",
   "execution_count": null,
   "metadata": {},
   "outputs": [],
   "source": []
  },
  {
   "attachments": {},
   "cell_type": "markdown",
   "metadata": {},
   "source": [
    "#### 6) Faça um programa que imprima na tela os números de 1 a 20, um abaixo do outro. Depois modifique o programa para que ele mostre os números um ao lado do outro."
   ]
  },
  {
   "cell_type": "code",
   "execution_count": null,
   "metadata": {},
   "outputs": [],
   "source": [
    "for i in range(1,21):\n",
    "    print(i)\n",
    "print()\n",
    "for i in range(1,21):\n",
    "    print(i, end=\" \")\n"
   ]
  },
  {
   "attachments": {},
   "cell_type": "markdown",
   "metadata": {},
   "source": [
    "#### 7) Faça um programa que leia 5 números e informe o maior número."
   ]
  },
  {
   "cell_type": "code",
   "execution_count": null,
   "metadata": {},
   "outputs": [],
   "source": [
    "lista = []\n",
    "\n",
    "for i in range(5):\n",
    "    num = int(input(\"Informe um numero: \"))\n",
    "    lista.append(num)\n",
    "\n",
    "lista.sort(reverse=True)\n",
    "print(f\"O maior número digitado foi {lista[0]}\")\n",
    "\n"
   ]
  },
  {
   "attachments": {},
   "cell_type": "markdown",
   "metadata": {},
   "source": [
    "#### 8) Faça um programa que leia 5 números e informe a soma e a média dos números"
   ]
  },
  {
   "cell_type": "code",
   "execution_count": null,
   "metadata": {},
   "outputs": [],
   "source": [
    "soma = media = 0\n",
    "for i in range(5):\n",
    "    num = int(input(\"Informe um número: \"))\n",
    "    soma += num\n",
    "\n",
    "media = soma/5\n",
    "\n",
    "print(f\"Soma: {soma}\")\n",
    "print(f\"Média: {media}\")"
   ]
  },
  {
   "attachments": {},
   "cell_type": "markdown",
   "metadata": {},
   "source": [
    "#### 9) Faça um programa que imprima na tela apenas os números ímpares entre 1 e 50"
   ]
  },
  {
   "cell_type": "code",
   "execution_count": null,
   "metadata": {},
   "outputs": [],
   "source": [
    "print(\"Números pares de 1 a 50: \")\n",
    "for num in range(1, 51):\n",
    "    if num % 2 == 0:\n",
    "        print(num, end=\" \")\n",
    "    "
   ]
  },
  {
   "attachments": {},
   "cell_type": "markdown",
   "metadata": {},
   "source": [
    "#### 10) Faça um programa que receba dois números inteiros e gere os números inteiros que estão no intervalo compreendido por eles."
   ]
  },
  {
   "cell_type": "code",
   "execution_count": null,
   "metadata": {},
   "outputs": [],
   "source": [
    "num1 = int(input(\"Informe um número:\"))\n",
    "num2 = int(input(\"Informe um número:\"))\n",
    "\n",
    "\n",
    "if num1 > num2:\n",
    "    print(f\"Números no intervalo de {num2} e {num1}:\")\n",
    "    for i in range(num2, num1 + 1):\n",
    "        print(i, end=\" \")\n",
    "\n",
    "elif num2 > num1:\n",
    "    print(f\"Números no intervalo de {num1} e {num2}: \")\n",
    "    for i in range(num1, num2 + 1):\n",
    "        print(i, end=\" \")\n",
    "\n",
    "else: \n",
    "    print(\"Os números informados são iguais então não há números no intervalo entre eles!\")\n"
   ]
  },
  {
   "attachments": {},
   "cell_type": "markdown",
   "metadata": {},
   "source": [
    "#### 11) Altere o programa anterior para mostrar no final a soma dos números."
   ]
  },
  {
   "cell_type": "code",
   "execution_count": null,
   "metadata": {},
   "outputs": [],
   "source": [
    "num1 = int(input(\"Informe um número:\"))\n",
    "num2 = int(input(\"Informe um número:\"))\n",
    "\n",
    "\n",
    "if num1 > num2:\n",
    "    print(f\"Números no intervalo de {num2} e {num1}:\")\n",
    "    for i in range(num2, num1 + 1):\n",
    "        print(i, end=\" \")\n",
    "\n",
    "elif num2 > num1:\n",
    "    print(f\"Números no intervalo de {num1} e {num2}: \")\n",
    "    for i in range(num1, num2 + 1):\n",
    "        print(i, end=\" \")\n",
    "\n",
    "else: \n",
    "    print(\"Os números informados são iguais então não há números no intervalo entre eles!\")\n",
    "\n",
    "print(f\"\\nSoma: {num1 + num2} \")"
   ]
  },
  {
   "attachments": {},
   "cell_type": "markdown",
   "metadata": {},
   "source": [
    "#### 12) Desenvolva um gerador de tabuada, capaz de gerar a tabuada de qualquer número inteiro entre 1 a 10. O usuário deve informar de qual numero ele deseja ver a tabuada. "
   ]
  },
  {
   "cell_type": "code",
   "execution_count": null,
   "metadata": {},
   "outputs": [],
   "source": [
    "n = int(input(\"Insira o número que deseja a tabuada: \"))\n",
    "print(f\"Tabuada de {n}\")\n",
    "for i in range(1, 11):\n",
    "    print(f\"{n} X {i} = {n*i}\")"
   ]
  },
  {
   "attachments": {},
   "cell_type": "markdown",
   "metadata": {},
   "source": [
    "#### 13) Faça um programa que peça dois números, base e expoente, calcule e mostre o primeiro número elevado ao segundo número. Não utilize a função de potência da linguagem."
   ]
  },
  {
   "cell_type": "code",
   "execution_count": null,
   "metadata": {},
   "outputs": [],
   "source": [
    "base = int(input(\"Base: \"))\n",
    "exp = int(input(\"Expoente: \"))\n",
    "resultado = 1\n",
    "\n",
    "for i in range(exp):\n",
    "    resultado *= base\n",
    "\n",
    "print(f\"{base} elevado a {exp}: {resultado}\")"
   ]
  },
  {
   "attachments": {},
   "cell_type": "markdown",
   "metadata": {},
   "source": [
    "#### 14) Faça um programa que peça 10 números inteiros, calcule e mostre a quantidade de números pares e a quantidade de números impares."
   ]
  },
  {
   "cell_type": "code",
   "execution_count": null,
   "metadata": {},
   "outputs": [],
   "source": [
    "pares = impares = 0\n",
    "for i in range(1,11):\n",
    "    num = int(input(f\"Insira o {i}º número: \"))\n",
    "    if num % 2 == 0:\n",
    "        pares += 1\n",
    "    else:\n",
    "        impares += 1\n",
    "\n",
    "print(f\"Nesse conjunto de números temos {pares} pares e {impares} ímpares \")\n",
    "    "
   ]
  },
  {
   "attachments": {},
   "cell_type": "markdown",
   "metadata": {},
   "source": [
    "#### 15) A série de Fibonacci é formada pela seqüência 1,1,2,3,5,8,13,21,34,55,... Faça um programa capaz de gerar a série até o n−ésimo termo."
   ]
  },
  {
   "cell_type": "code",
   "execution_count": null,
   "metadata": {},
   "outputs": [],
   "source": [
    "\n",
    "n = int(input(\"Quantos termos você quer mostrar? \"))\n",
    "print(f\"Sequência de Fibonacci com {n} termos\")\n",
    "t1 = 1\n",
    "t2 = 1\n",
    "print(f\"{t1} - {t2} -\", end=\" \")\n",
    "cont = 3\n",
    "while cont <= n:\n",
    "    S = t2 + t1\n",
    "    if cont != n:\n",
    "        print(f\"{S} - \", end=\"\")\n",
    "    else:\n",
    "        print(f\"{S}\", end=\"\")\n",
    "    t1 = t2\n",
    "    t2 = S\n",
    "    cont += 1"
   ]
  },
  {
   "attachments": {},
   "cell_type": "markdown",
   "metadata": {},
   "source": [
    "#### 16) A série de Fibonacci é formada pela seqüência 0,1,1,2,3,5,8,13,21,34,55,... Faça um programa que gere a série até que o valor seja maior que 500."
   ]
  },
  {
   "cell_type": "code",
   "execution_count": null,
   "metadata": {},
   "outputs": [],
   "source": [
    "print(f\"Sequência de Fibonacci até o termo com no mínimo o valor 500\")\n",
    "t1 = 1\n",
    "t2 = 1\n",
    "print(f\"{t1} {t2} \", end=\"\")\n",
    "S = 0\n",
    "while S <= 500:\n",
    "    S = t2 + t1\n",
    "    print(f\"{S} \", end=\"\")\n",
    "    t1 = t2\n",
    "    t2 = S\n",
    "    "
   ]
  },
  {
   "attachments": {},
   "cell_type": "markdown",
   "metadata": {},
   "source": [
    "#### 17) Faça um programa que calcule o fatorial de um número inteiro fornecido pelo usuário. Ex.: 5!=5.4.3.2.1=120"
   ]
  },
  {
   "cell_type": "code",
   "execution_count": null,
   "metadata": {},
   "outputs": [],
   "source": [
    "n = int(input(\"Digite o número que ser saber o fatorial:\"))\n",
    "fatorial = 1\n",
    "print(f\"{n}! =\", end=\" \")\n",
    "while n > 0:\n",
    "    print(f\"{n} X\" if n > 1 else f\"{n} =\", end=\" \")\n",
    "    fatorial = fatorial * n\n",
    "    n -= 1\n",
    "print(fatorial)"
   ]
  },
  {
   "attachments": {},
   "cell_type": "markdown",
   "metadata": {},
   "source": [
    "#### 18) Faça um programa que, dado um conjunto de N números, determine o menor valor, o maior valor e a soma dos valores."
   ]
  },
  {
   "cell_type": "code",
   "execution_count": null,
   "metadata": {},
   "outputs": [],
   "source": [
    "n = int(input(\"Quantos números deseja informar: \"))\n",
    "lista = []\n",
    "\n",
    "for i in range(n):\n",
    "    lista.append(int(input(\"Insira um número: \")))\n",
    "\n",
    "lista.sort\n",
    "print(f\"Maior: {lista[-1]}\")\n",
    "print(f\"Menor: {lista[0]}\")\n",
    "print(f\"Soma: {sum(lista)}\")\n"
   ]
  },
  {
   "attachments": {},
   "cell_type": "markdown",
   "metadata": {},
   "source": [
    "#### 19) Altere o programa anterior para que ele aceite apenas números entre 0 e 1000."
   ]
  },
  {
   "cell_type": "code",
   "execution_count": null,
   "metadata": {},
   "outputs": [],
   "source": [
    "n = int(input(\"Quantos números deseja informar: \"))\n",
    "lista = []\n",
    "\n",
    "for i in range(n):\n",
    "    num = int(input(\"Insira um número [ entre 0 e 1000]: \"))\n",
    "    while num not in range(0,1001):\n",
    "        num = int(input(\"Insira um número [ entre 0 e 1000]: \"))\n",
    "    lista.append(num)\n",
    "\n",
    "lista.sort\n",
    "print(f\"Maior: {lista[-1]}\")\n",
    "print(f\"Menor: {lista[0]}\")\n",
    "print(f\"Soma: {sum(lista)}\")"
   ]
  },
  {
   "attachments": {},
   "cell_type": "markdown",
   "metadata": {},
   "source": [
    "#### 20) Altere o programa de cálculo do fatorial, permitindo ao usuário calcular o fatorial várias vezes e limitando o fatorial a números inteiros positivos e menores que 16."
   ]
  },
  {
   "cell_type": "code",
   "execution_count": null,
   "metadata": {},
   "outputs": [],
   "source": [
    "\n",
    "while True:\n",
    "    n = int(input(\"Digite o número que ser saber o fatorial [entre 0 e 16]:\"))\n",
    "    while n not in range(16):\n",
    "        n = int(input(\"Digite o número que ser saber o fatorial [entre 0 e 16]:\"))\n",
    "    fatorial = 1\n",
    "    print(f\"{n}! =\", end=\" \")\n",
    "    while n > 0:\n",
    "        print(f\"{n} X\" if n > 1 else f\"{n} =\", end=\" \")\n",
    "        fatorial = fatorial * n\n",
    "        n -= 1\n",
    "    print(fatorial)\n",
    "    resp = str(input(\"Digite saber o fatorial de mais um número [S/N]: \")).strip().upper()[0]\n",
    "    if resp == \"N\":\n",
    "        break\n",
    "    print(\"----------------------------------------------------------\")\n"
   ]
  },
  {
   "attachments": {},
   "cell_type": "markdown",
   "metadata": {},
   "source": [
    "#### 21) Faça um programa que peça um número inteiro e determine se ele é ou não um número primo. Um número primo é aquele que é divisível somente por ele mesmo e por 1."
   ]
  },
  {
   "cell_type": "code",
   "execution_count": null,
   "metadata": {},
   "outputs": [],
   "source": [
    "n = int(input(\"Digite um número: \"))\n",
    "divisivel = 0\n",
    "for c in range(1, n+1):\n",
    "    if n % c == 0:\n",
    "        divisivel += 1\n",
    "if divisivel == 2:\n",
    "    print(f\"O número {n} é primo!\")\n",
    "else:\n",
    "    print(f\"O número {n} não é primo!\")"
   ]
  },
  {
   "attachments": {},
   "cell_type": "markdown",
   "metadata": {},
   "source": [
    "#### 22) Altere o programa de cálculo dos números primos, informando, caso o número não seja primo, por quais número ele é divisível."
   ]
  },
  {
   "cell_type": "code",
   "execution_count": null,
   "metadata": {},
   "outputs": [],
   "source": [
    "n = int(input(\"Digite um número: \"))\n",
    "divisivel = 0\n",
    "lista = []\n",
    "for c in range(1, n+1):\n",
    "    if n % c == 0:\n",
    "        lista.append(c)\n",
    "        divisivel += 1\n",
    "if divisivel == 2:\n",
    "    print(f\"O número {n} é primo!\")\n",
    "else:\n",
    "    print(f\"O número {n} não é primo e divísivel por\", end=\" \")\n",
    "    for i in lista:\n",
    "        print(i, end=\" \")"
   ]
  },
  {
   "attachments": {},
   "cell_type": "markdown",
   "metadata": {},
   "source": [
    "#### 23) Faça um programa que mostre todos os primos entre 1 e N sendo N um número inteiro fornecido pelo usuário. O programa deverá mostrar também o número de divisões que ele executou para encontrar os números primos. Serão avaliados o funcionamento, o estilo e o número de testes (divisões) executados."
   ]
  },
  {
   "cell_type": "code",
   "execution_count": 93,
   "metadata": {},
   "outputs": [
    {
     "name": "stdout",
     "output_type": "stream",
     "text": [
      "Números primos de 1 a 45: 2 3 5 7 11 13 17 19 23 29 31 37 41 43 \n",
      "As divisões executadas para chegar a esse resultado foram 498\n"
     ]
    }
   ],
   "source": [
    "n = int(input(\"Digite um número: \"))\n",
    "lista = []\n",
    "divisoes = 0\n",
    "for i in range(1,n+1):\n",
    "    divisivel = 0\n",
    "    for c in range(1, i+1):\n",
    "        if i % c == 0:\n",
    "            divisivel += 1\n",
    "        divisoes += 1\n",
    "        if divisivel > 2:\n",
    "            break\n",
    "    if divisivel == 2:\n",
    "        lista.append(i)\n",
    "\n",
    "print(f\"Números primos de 1 a {n}:\", end=\" \")\n",
    "for i in lista:\n",
    "    print(i, end=\" \")\n",
    "print(f\"\\nAs divisões executadas para chegar a esse resultado foram {divisoes}\")"
   ]
  }
 ],
 "metadata": {
  "kernelspec": {
   "display_name": "Python 3",
   "language": "python",
   "name": "python3"
  },
  "language_info": {
   "codemirror_mode": {
    "name": "ipython",
    "version": 3
   },
   "file_extension": ".py",
   "mimetype": "text/x-python",
   "name": "python",
   "nbconvert_exporter": "python",
   "pygments_lexer": "ipython3",
   "version": "3.11.1"
  },
  "orig_nbformat": 4
 },
 "nbformat": 4,
 "nbformat_minor": 2
}
