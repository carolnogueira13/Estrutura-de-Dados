{
 "cells": [
  {
   "attachments": {},
   "cell_type": "markdown",
   "metadata": {},
   "source": [
    "# Revisão 03 - estrutura de repetição Parte 02"
   ]
  },
  {
   "attachments": {},
   "cell_type": "markdown",
   "metadata": {},
   "source": [
    "#### 24) Faça um programa que calcule o mostre a média aritmética de N notas."
   ]
  },
  {
   "cell_type": "code",
   "execution_count": null,
   "metadata": {},
   "outputs": [],
   "source": [
    "n = int(input(\"Quer saber a média arimética de quantas notas: \"))\n",
    "soma = 0\n",
    "\n",
    "for i in range(n):\n",
    "    nota = float(input(\"Informe a nota: \"))\n",
    "    soma += nota\n",
    "\n",
    "print(f\"Média: {(soma/n):.2f}\")"
   ]
  },
  {
   "attachments": {},
   "cell_type": "markdown",
   "metadata": {},
   "source": [
    "#### 25) Faça um programa que peça para n pessoas a sua idade, ao final o programa devera verificar se a média de idade da turma varia entre 0 e 25,26 e 60 e maior que 60; e então, dizer se a turma é jovem, adulta ou idosa, conforme a média calculada."
   ]
  },
  {
   "cell_type": "code",
   "execution_count": null,
   "metadata": {},
   "outputs": [],
   "source": [
    "n = int(input(\"Diga o número de pessoas que deseja saber a idade: \"))\n",
    "soma = 0\n",
    "\n",
    "for i in range(n):\n",
    "    idade = int(input(\"Idade: \"))\n",
    "    soma += idade\n",
    "\n",
    "media = soma/n\n",
    "\n",
    "if media > 60:\n",
    "    print(\"A turma é idosa.\")\n",
    "elif media > 25:\n",
    "    print(\"A turma é adulta.\")\n",
    "else:\n",
    "    print(\"A turma é jovem.\")"
   ]
  },
  {
   "attachments": {},
   "cell_type": "markdown",
   "metadata": {},
   "source": [
    "#### 26) Numa eleição existem três candidatos. Faça um programa que peça o número total de eleitores. Peça para cada eleitor votar e ao final mostrar o número de votos de cada candidato."
   ]
  },
  {
   "cell_type": "code",
   "execution_count": null,
   "metadata": {},
   "outputs": [],
   "source": [
    "# Considerei os candidatos com A, B e C\n",
    "\n",
    "a = b = c = 0\n",
    "eleitores = int(input(\"Qual o total de eleitores: \"))\n",
    "for i in range(1,eleitores+1):\n",
    "    x = \" \"\n",
    "    while x not in \"ABC\":\n",
    "        x = str(input(f\"Qual o seu voto [A, B ou C], eleitor número {i}: \")).strip().upper()\n",
    "    if x == \"A\":\n",
    "        a += 1\n",
    "    elif x == \"B\":\n",
    "        b += 1\n",
    "    else:\n",
    "        c += 1\n",
    "    \n",
    "print(f\"O candidato A teve {a} votos\")\n",
    "print(f\"O candidato B teve {b} votos\")\n",
    "print(f\"O candidato C teve {c} votos\")\n",
    "\n"
   ]
  },
  {
   "attachments": {},
   "cell_type": "markdown",
   "metadata": {},
   "source": [
    "#### 27) Faça um programa que calcule o número médio de alunos por turma. Para isto, peça a quantidade de turmas e a quantidade de alunos para cada turma. As turmas não podem ter mais de 40 alunos."
   ]
  },
  {
   "cell_type": "code",
   "execution_count": null,
   "metadata": {},
   "outputs": [],
   "source": [
    "n = int(input(\"Quantidade de turmas: \"))\n",
    "soma = 0\n",
    "\n",
    "for i in range(1,n+1):\n",
    "    alunos = int(input(f\"Alunos da turma {i}: \"))\n",
    "    while alunos > 40:\n",
    "        alunos = int(input(f\"Alunos da turma {i}: \"))\n",
    "    soma += alunos\n",
    "\n",
    "print(f\"A média de alunos por turma é {(soma/n):.2f}\")\n"
   ]
  },
  {
   "attachments": {},
   "cell_type": "markdown",
   "metadata": {},
   "source": [
    "#### 28) Faça um programa que calcule o valor total investido por um colecionador em sua coleção de CDs e o valor médio gasto em cada um deles. O usuário deverá informar a quantidade de CDs e o valor para em cada um."
   ]
  },
  {
   "cell_type": "code",
   "execution_count": null,
   "metadata": {},
   "outputs": [],
   "source": [
    "n = int(input(\"Quantidade de CDs: \"))\n",
    "soma = 0\n",
    "\n",
    "for i in range(1,n+1):\n",
    "    alunos = float(input(f\"Preço do CD {i}: R$ \"))\n",
    "    soma += alunos\n",
    "\n",
    "print(f\"A média dos CDs é R${(soma/n):.2f}\")"
   ]
  },
  {
   "attachments": {},
   "cell_type": "markdown",
   "metadata": {},
   "source": [
    "#### 29) O Sr. Manoel Joaquim possui uma grande loja de artigos de R$ 1,99, com cerca de 10 caixas. Para agilizar o cálculo de quanto cada cliente deve pagar ele desenvolveu um tabela que contém o número de itens que o cliente comprou e ao lado o valor da conta. Desta forma a atendente do caixa precisa apenas contar quantos itens o cliente está levando e olhar na tabela de preços. Você foi contratado para desenvolver o programa que monta esta tabela de preços, que conterá os preços de 1 até 50 produtos"
   ]
  },
  {
   "cell_type": "code",
   "execution_count": null,
   "metadata": {},
   "outputs": [],
   "source": [
    "print(\"Loja Quase Dois - Tabela de Preço\")\n",
    "for i in range(1,51):\n",
    "    print(f\"{i} - R${1.99 * i}\")"
   ]
  },
  {
   "attachments": {},
   "cell_type": "markdown",
   "metadata": {},
   "source": [
    "#### 30) O Sr. Manoel Joaquim acaba de adquirir uma panificadora e pretende implantar a metodologia da tabelinha, que já é um sucesso na sua loja de 1,99. Você foi contratado para desenvolver o programa que monta a tabela de preços de pães, de 1 até 50 pães, a partir do preço do pão informado pelo usuário"
   ]
  },
  {
   "cell_type": "code",
   "execution_count": null,
   "metadata": {},
   "outputs": [],
   "source": [
    "preco = float(input(\"Insira o preço do pão: R$\"))\n",
    "print(f\"Preço do pão: R${preco}\")\n",
    "print(\"Panificadora Pão de Ontem - Tabela de Preço\")\n",
    "for i in range(1,51):\n",
    "    print(f\"{i} - R${(preco * i):.2f}\")"
   ]
  },
  {
   "attachments": {},
   "cell_type": "markdown",
   "metadata": {},
   "source": [
    "#### 31) O Sr. Manoel Joaquim expandiu seus negócios para além dos negócios de 1,99 e agora possui uma loja de conveniências. Faça um programa que implemente uma caixa registradora rudimentar. O programa deverá receber um número desconhecido de valores referentes aos preços das mercadorias. Um valor zero deve ser informado pelo operador para indicar o final da compra. O programa deve então mostrar o total da compra e perguntar o valor em dinheiro que o cliente forneceu, para então calcular e mostrar o valor do troco. Após esta operação, o programa deverá voltar ao ponto inicial, para registrar a próxima compra. "
   ]
  },
  {
   "cell_type": "code",
   "execution_count": null,
   "metadata": {},
   "outputs": [],
   "source": [
    "print(\"Lojas Tabajara\")\n",
    "while True:\n",
    "    cont = 1\n",
    "    x = float(input(f\"Produto {cont}: R$ \"))\n",
    "    total = x\n",
    "    while x != 0:\n",
    "        cont += 1\n",
    "        x = float(input(f\"Produto {cont}: R$ \"))\n",
    "        total += x\n",
    "    print(f\"Total: R${total}\")\n",
    "    dinheiro = float(input(\"Dinheiro: R$\"))\n",
    "    print(f\"Troco: R${dinheiro - total}\")\n",
    "    print(\"-------------------------------------------------------------\")\n",
    "    resp = str(input(\"Digite realizar mais um registro de compra [S/N]: \")).strip().upper()[0]\n",
    "    if resp == \"N\":\n",
    "        break\n",
    "    \n",
    "    \n",
    "    "
   ]
  },
  {
   "attachments": {},
   "cell_type": "markdown",
   "metadata": {},
   "source": [
    "#### 32) Faça um programa que calcule o fatorial de um número inteiro fornecido pelo usuário. Ex.: 5!=5.4.3.2.1=120."
   ]
  },
  {
   "cell_type": "code",
   "execution_count": null,
   "metadata": {},
   "outputs": [],
   "source": [
    "n = int(input(\"Digite o número que ser saber o fatorial:\"))\n",
    "fatorial = 1\n",
    "print(f\"{n}! =\", end=\" \")\n",
    "while n > 0:\n",
    "    print(f\"{n} X\" if n > 1 else f\"{n} =\", end=\" \")\n",
    "    fatorial = fatorial * n\n",
    "    n -= 1\n",
    "print(fatorial)"
   ]
  },
  {
   "attachments": {},
   "cell_type": "markdown",
   "metadata": {},
   "source": [
    "#### 33) O Departamento Estadual de Meteorologia lhe contratou para desenvolver um programa que leia as um conjunto indeterminado de temperaturas, e informe ao final a menor e a maior temperaturas informadas, bem como a média das temperaturas."
   ]
  },
  {
   "cell_type": "code",
   "execution_count": null,
   "metadata": {},
   "outputs": [],
   "source": [
    "import numpy as np\n",
    "\n",
    "n = int(input(\"Quantas temperaturas deseja saber: \"))\n",
    "lista = []\n",
    "\n",
    "for i in range(n):\n",
    "    lista.append(float(input(\"Temperatura: \")))\n",
    "\n",
    "lista.sort   \n",
    "print(f\"Maior temperatura: {lista[-1]} graus\")\n",
    "print(f\"Menor temperatura: {lista[0]} graus\")\n",
    "print(f\"Média: {np.mean(lista):.2f}\")"
   ]
  },
  {
   "attachments": {},
   "cell_type": "markdown",
   "metadata": {},
   "source": [
    "#### 34) Os números primos possuem várias aplicações dentro da Computação, por exemplo na Criptografia. Um número primo é aquele que é divisível apenas por um e por ele mesmo. Faça um programa que peça um número inteiro e determine se ele é ou não um número primo."
   ]
  },
  {
   "cell_type": "code",
   "execution_count": null,
   "metadata": {},
   "outputs": [],
   "source": [
    "n = int(input(\"Digite um número: \"))\n",
    "divisivel = 0\n",
    "for c in range(1, n+1):\n",
    "    if n % c == 0:\n",
    "        divisivel += 1\n",
    "if divisivel == 2:\n",
    "    print(f\"O número {n} é primo!\")\n",
    "else:\n",
    "    print(f\"O número {n} não é primo!\")"
   ]
  },
  {
   "attachments": {},
   "cell_type": "markdown",
   "metadata": {},
   "source": [
    "#### 35) Encontrar números primos é uma tarefa difícil. Faça um programa que gera uma lista dos números primos existentes entre 1 e um número inteiro informado pelo usuário."
   ]
  },
  {
   "cell_type": "code",
   "execution_count": null,
   "metadata": {},
   "outputs": [],
   "source": [
    "n = int(input(\"Digite um número: \"))\n",
    "lista = []\n",
    "for i in range(1,n+1):\n",
    "    divisivel = 0\n",
    "    for c in range(1, i+1):\n",
    "        if i % c == 0:\n",
    "            divisivel += 1\n",
    "        if divisivel > 2:\n",
    "            break\n",
    "    if divisivel == 2:\n",
    "        lista.append(i)\n",
    "\n",
    "print(f\"Lista de números primos de 1 a {n}: {lista}\")"
   ]
  },
  {
   "attachments": {},
   "cell_type": "markdown",
   "metadata": {},
   "source": [
    "#### 36) Desenvolva um programa que faça a tabuada de um número qualquer inteiro que será digitado pelo usuário, mas a tabuada não deve necessariamente iniciar em 1 e terminar em 10, o valor inicial e final devem ser informados também pelo usuário"
   ]
  },
  {
   "cell_type": "code",
   "execution_count": null,
   "metadata": {},
   "outputs": [],
   "source": [
    "tabuada = int(input(\"Mostrar a tabuada de: \"))\n",
    "inicial = int(input(\"Começar por: \"))\n",
    "final = int(input(\"Terminar por: \"))\n",
    "\n",
    "while final < inicial:\n",
    "    final = int(input(\"Terminar por: \"))\n",
    "\n",
    "print(f\"Vou montar a tabuada de {tabuada} iniciando em {inicial} e terminando em {final}\")\n",
    "for i in range(inicial, final+1):\n",
    "    print(f\"{tabuada} X {i} = {tabuada * i}\")"
   ]
  },
  {
   "attachments": {},
   "cell_type": "markdown",
   "metadata": {},
   "source": [
    "#### 37) Uma academia deseja fazer um senso entre seus clientes para descobrir o mais alto, o mais baixo, a mais gordo e o mais magro, para isto você deve fazer um programa que pergunte a cada um dos clientes da academia seu código, sua altura e seu peso. O final da digitação de dados deve ser dada quando o usuário digitar 0 (zero) no campo código. Ao encerrar o programa também deve ser informados os códigos e valores do clente mais alto, do mais baixo, do mais gordo e do mais magro, além da média das alturas e dos pesos dos clientes"
   ]
  },
  {
   "cell_type": "code",
   "execution_count": null,
   "metadata": {},
   "outputs": [],
   "source": [
    "import pandas as pd\n",
    "\n",
    "lista = {'codigo': [] , 'altura': [], 'peso': []}\n",
    "while True:\n",
    "    lista['codigo'].append(int(input(\"Código [digite 0 para parar o programa]: \")))\n",
    "    if lista['codigo'][-1] == 0:\n",
    "        lista['codigo'].pop()\n",
    "        break\n",
    "    lista['altura'].append(float(input(\"Altura: \")))\n",
    "    lista['peso'].append(float(input(\"Peso (em kg): \")))\n",
    "\n",
    "\n",
    "df = pd.DataFrame(lista)\n",
    "\n",
    "print(f\"Valores informados: \\n{df}\")\n",
    "maximo_altura = df['altura'].max()\n",
    "minimo_altura = df['altura'].min()\n",
    "maximo_peso = df['peso'].max()\n",
    "minimo_peso = df['peso'].min()\n",
    "media_alturas = df[\"altura\"].mean()\n",
    "media_peso = df[\"peso\"].mean()\n",
    "\n",
    "codigo_mais_alto = df.loc[df[\"altura\"] == maximo_altura, \"codigo\"].iloc[0]\n",
    "codigo_mais_baixo = df.loc[df[\"altura\"] == minimo_altura, \"codigo\"].iloc[0]\n",
    "codigo_mais_gordo = df.loc[df[\"peso\"] == maximo_peso, \"codigo\"].iloc[0]\n",
    "codigo_mais_magro = df.loc[df[\"peso\"] == minimo_peso, \"codigo\"].iloc[0]\n",
    "\n",
    "print()\n",
    "print(f\"Cliente mais alto: Código: {codigo_mais_alto} e Altura: {maximo_altura}m \")\n",
    "print(f\"Cliente mais baixo: Código: {codigo_mais_baixo} e Altura: {minimo_altura}m \")\n",
    "print(f\"Cliente mais gordo: Código: {codigo_mais_gordo} e Altura: {maximo_peso}kg \")\n",
    "print(f\"Cliente mais magro: Código: {codigo_mais_magro} e Altura: {minimo_peso}kg \")\n",
    "\n",
    "print(f\"Média as alturas: {media_alturas:.2f}\")\n",
    "print(f\"Média dos pesos: {media_peso:.2f}\")\n",
    "\n",
    "# Obs.: Depois melhorar esse programa, para caso tenha mais de um cliente nas condições determinadas, o programa retornar uma lista\n",
    "# de código, e não apenas a primeira ocorrência\n",
    "\n",
    "\n",
    "\n"
   ]
  },
  {
   "attachments": {},
   "cell_type": "markdown",
   "metadata": {},
   "source": [
    "#### 38) Um funcionário de uma empresa recebe aumento salarial anualmente: Sabe-se que:\n",
    "- Esse funcionário foi contratado em 1995, com salário inicial de R$ 1.000,00;\n",
    "- Em 1996 recebeu aumento de 1,5% sobre seu salário inicial;\n",
    "- A partir de 1997 (inclusive), os aumentos salariais sempre correspondem ao dobro do percentual do ano anterior. \n",
    "#### Faça um programa que determine o salário atual desse funcionário. Após concluir isto, altere o programa permitindo que o usuário digite o salário inicial do funcionário."
   ]
  },
  {
   "cell_type": "code",
   "execution_count": null,
   "metadata": {},
   "outputs": [],
   "source": [
    "salario = float(input(\"Salário inicial: \"))\n",
    "ano = int(input(\"Ano da contratação: \"))\n",
    "aumento_salarial = 0.015 * salario\n",
    "for i in range(ano, 2023):\n",
    "    salario += aumento_salarial\n",
    "    aumento_salarial = 0.030 * salario\n",
    "\n",
    "print(f\"O salário do funcionário em 2023 será de R${salario:.2f}\")\n",
    "    "
   ]
  },
  {
   "attachments": {},
   "cell_type": "markdown",
   "metadata": {},
   "source": [
    "#### 39) Faça um programa que leia dez conjuntos de dois valores, o primeiro representando o número do aluno e o segundo representando a sua altura em centímetros. Encontre o aluno mais alto e o mais baixo. Mostre o número do aluno mais alto e o número do aluno mais baixo, junto com suas alturas."
   ]
  },
  {
   "cell_type": "code",
   "execution_count": null,
   "metadata": {},
   "outputs": [],
   "source": [
    "import pandas as pd\n",
    "\n",
    "lista = {'codigo': [] , 'altura': []}\n",
    "for i in range(1,11):\n",
    "    lista['codigo'].append(int(input(f\"Código do {i}ª aluno: \")))\n",
    "    lista['altura'].append(float(input(\"Altura: \")))\n",
    "\n",
    "\n",
    "df = pd.DataFrame(lista)\n",
    "\n",
    "print(f\"Valores informados: \\n{df}\")\n",
    "\n",
    "maximo_altura = df['altura'].max()\n",
    "minimo_altura = df['altura'].min()\n",
    "\n",
    "codigo_mais_alto = df.loc[df[\"altura\"] == maximo_altura, \"codigo\"].iloc[0]\n",
    "codigo_mais_baixo = df.loc[df[\"altura\"] == minimo_altura, \"codigo\"].iloc[0]\n",
    "\n",
    "print(f\"Aluno mais alto: Código: {codigo_mais_alto} e Altura: {maximo_altura}m\")\n",
    "print(f\"Aluno mais baixo: Código: {codigo_mais_baixo} e Altura: {minimo_altura}m\")"
   ]
  },
  {
   "attachments": {},
   "cell_type": "markdown",
   "metadata": {},
   "source": [
    "#### 40) Foi feita uma estatística em cinco cidades brasileiras para coletar dados sobre acidentes de trânsito. Foram obtidos os seguintes dados:\n",
    "- Código da cidade;\n",
    "- Número de veículos de passeio (em 1999);\n",
    "- Número de acidentes de trânsito com vítimas (em 1999). Deseja-se saber:\n",
    "- Qual o maior e menor índice de acidentes de transito e a que cidade pertence;\n",
    "- Qual a média de veículos nas cinco cidades juntas;\n",
    "- Qual a média de acidentes de trânsito nas cidades com menos de 2.000 veículos de passeio."
   ]
  },
  {
   "cell_type": "code",
   "execution_count": null,
   "metadata": {},
   "outputs": [],
   "source": [
    "import pandas as pd\n",
    "\n",
    "cidades = {\"codigo\": [\"RJ\", \"SP\", \"BH\", \"DF\", \"POA\"],\n",
    "           \"veiculos\": [3000, 9000, 2000, 1000, 1500],\n",
    "           \"acidentes\": [50, 100, 30, 10, 20]}\n",
    "\n",
    "df = pd.DataFrame(cidades)\n",
    "print(df)\n",
    "\n",
    "maximo_acidentes = df['acidentes'].max()\n",
    "minimo_acidentes = df['acidentes'].min()\n",
    "media_veiculos = df['veiculos'].mean()\n",
    "media_acidentes = df.loc[df[\"veiculos\"] < 2000, 'acidentes'].mean()\n",
    "\n",
    "codigo_maior = df.loc[df[\"acidentes\"] == maximo_acidentes, \"codigo\"].iloc[0]\n",
    "codigo_menor = df.loc[df[\"acidentes\"] == minimo_acidentes, \"codigo\"].iloc[0]\n",
    "\n",
    "print()\n",
    "print(f\"Maior indice de acidentes: {maximo_acidentes} na cidade {codigo_maior}\")\n",
    "print(f\"Menor indice de acidentes: {minimo_acidentes} na cidade {codigo_menor}\")\n",
    "print(f\"Média dos veículos das 5 cidades: {media_veiculos}\")\n",
    "print(f\"Qual a média de acidentes de trânsito nas cidades com menos de 2.000 veículos de passeio: {media_acidentes}\")\n",
    "\n"
   ]
  },
  {
   "attachments": {},
   "cell_type": "markdown",
   "metadata": {},
   "source": [
    "#### 41) Faça um programa que receba o valor de uma dívida e mostre uma tabela com os seguintes dados: valor da dívida, valor dos juros, quantidade de parcelas e valor da parcela."
   ]
  },
  {
   "cell_type": "code",
   "execution_count": null,
   "metadata": {},
   "outputs": [],
   "source": [
    "divida_original = float(input(\"Dívida: \"))\n",
    "juros = 0.00\n",
    "parcelas = 1\n",
    "valor_parcela = divida_original\n",
    "cont = 2\n",
    "print(f\"{'Valor da divida':<20}{'Valor dos Juros':<20}{'Quantidade de parcelas':<30}{'Valor da parcela':<20}\")\n",
    "print(f\"{f'R${divida_original}':<20}{f'R${juros}':<20}{f'{parcelas}':<30}{f'R${valor_parcela}':<20}\")\n",
    "\n",
    "for i in range(3,13,3):\n",
    "    divida = divida_original\n",
    "    juros = divida * ((5 * cont)/100)\n",
    "    divida += juros\n",
    "    parcelas = i\n",
    "    valor_parcela = divida/parcelas\n",
    "    print(f\"{f'R${divida}':<20}{f'R${juros}':<20}{f'{parcelas}':<30}{f'R${valor_parcela:.2f}':<20}\")\n",
    "    cont += 1\n",
    "    "
   ]
  },
  {
   "attachments": {},
   "cell_type": "markdown",
   "metadata": {},
   "source": [
    "#### 42) Faça um programa que leia uma quantidade indeterminada de números positivos e conte quantos deles estão nos seguintes intervalos: [0-25], [26-50], [51-75] e [76-100]. A entrada de dados deverá terminar quando for lido um número negativo."
   ]
  },
  {
   "cell_type": "code",
   "execution_count": null,
   "metadata": {},
   "outputs": [],
   "source": [
    "lista = []\n",
    "ate25 = ate50 = ate75 = ate100 = 0\n",
    "while True:\n",
    "    n = int(input(\"Insira um número de 0 a 100 (negativo ou maior que 100 para parar): \"))\n",
    "    if n < 0 or n > 100:\n",
    "        break\n",
    "    lista.append(n)\n",
    "    if n > 75:\n",
    "        ate100 += 1\n",
    "    elif n > 50:\n",
    "        ate75 += 1\n",
    "    elif n > 25:\n",
    "        ate50 += 1\n",
    "    else:\n",
    "        ate25 += 1\n",
    "\n",
    "print(f\"Lista dos números inseridos: {lista}\")\n",
    "print(f\"Quantidade de números de [0,25]: {ate25}\")\n",
    "print(f\"Quantidade de números de [26,50]: {ate50}\")\n",
    "print(f\"Quantidade de números de [51,75]: {ate75}\")\n",
    "print(f\"Quantidade de números de [76,100]: {ate100}\")\n",
    "    \n",
    "    "
   ]
  },
  {
   "attachments": {},
   "cell_type": "markdown",
   "metadata": {},
   "source": [
    "#### 43) Faça um programa que leia o código dos itens pedidos e as quantidades desejadas. Calcule e mostre o valor a ser pago por item (preço * quantidade) e o total geral do pedido. Considere que o cliente deve informar quando o pedido deve ser encerrado."
   ]
  },
  {
   "cell_type": "code",
   "execution_count": null,
   "metadata": {},
   "outputs": [],
   "source": [
    "total = 0\n",
    "while True:\n",
    "    codigo = int(input(\"Código (digite 0 para parar): \"))\n",
    "    if codigo == 0:\n",
    "        break\n",
    "    quantidade = int(input(\"Digite a quantidade: \"))\n",
    "    \n",
    "    match codigo:\n",
    "        case 100:\n",
    "            subTotal = quantidade * 1.2\n",
    "            print(f\"Cachorro quente: {quantidade} X 1.2 = R${subTotal}\")\n",
    "        case 101:\n",
    "            subTotal = quantidade * 1.3\n",
    "            print(f\"Bauru simples: {quantidade} X 1.3 = R${subTotal}\")\n",
    "        case 102:\n",
    "            subTotal = quantidade * 1.5\n",
    "            print(f\"Bauru com ovo: {quantidade} X 1.5 = R${subTotal}\")\n",
    "        case 103:\n",
    "            subTotal = quantidade * 1.2\n",
    "            print(f\"Hambúrger: {quantidade} X 1.2 = R${subTotal}\")\n",
    "        case 104:\n",
    "             subTotal = quantidade * 1.3\n",
    "             print(f\"Cheeseburger: {quantidade} X 1.3 = R${subTotal}\")\n",
    "        case 105:\n",
    "            subTotal = quantidade * 1\n",
    "            print(f\"Refrigerante: {quantidade} X 1.0 = R${subTotal}\")\n",
    "        case _:\n",
    "            subTotal = 0\n",
    "            print(\"Código inválido\")\n",
    "            \n",
    "    total += subTotal\n",
    "\n",
    "print(f\"Total da compra: R${total}\")\n",
    "  \n",
    "    "
   ]
  },
  {
   "attachments": {},
   "cell_type": "markdown",
   "metadata": {},
   "source": [
    "#### 44) Em uma eleição presidencial existem quatro candidatos. Os votos são informados por meio de código. Os códigos utilizados são:\n",
    "- 1 , 2, 3, 4  - Votos para os respectivos candidatos \n",
    "(você deve montar a tabela ex: 1 - Jose/ 2- João/etc)\n",
    "- 5 - Voto Nulo\n",
    "- 6 - Voto em Branco\n",
    "#### Faça um programa que calcule e mostre:\n",
    "- O total de votos para cada candidato;\n",
    "- O total de votos nulos;\n",
    "- O total de votos em branco;\n",
    "- A percentagem de votos nulos sobre o total de votos;\n",
    "- A percentagem de votos em branco sobre o total de votos. \n",
    "#### Para finalizar o conjunto de votos tem-se o valor zero."
   ]
  },
  {
   "cell_type": "code",
   "execution_count": null,
   "metadata": {},
   "outputs": [],
   "source": [
    "cand1 = cand2 = cand3 = cand4 = nulo = branco = total = 0\n",
    "\n",
    "while True:\n",
    "    voto = int(input(\"Inisra o seu voto (0 para parar): \"))\n",
    "    if voto == 0:\n",
    "        break\n",
    "    \n",
    "    match voto:\n",
    "        case 1:\n",
    "            cand1 += 1\n",
    "            total += 1\n",
    "        case 2:\n",
    "            cand2 += 1\n",
    "            total += 1\n",
    "        case 3:\n",
    "            cand3 += 1\n",
    "            total += 1\n",
    "        case 4:\n",
    "            cand4 += 1\n",
    "            total += 1\n",
    "        case 5:\n",
    "            nulo += 1\n",
    "            total += 1\n",
    "        case 6:\n",
    "            branco += 1\n",
    "            total += 1\n",
    "        case _:\n",
    "            print(\"Opção inválida!\") \n",
    "\n",
    "print(f\"O candidato 1 teve {cand1} votos\")\n",
    "print(f\"O candidato 2 teve {cand2} votos\")\n",
    "print(f\"O candidato 3 teve {cand3} votos\")\n",
    "print(f\"O candidato 4 teve {cand4} votos\")\n",
    "print(f\"Votos nulos: {nulo} votos\")\n",
    "print(f\"Votos em branco: {branco} votos\")\n",
    "print()\n",
    "print(f\"Porcentagem nulos: {((nulo/ total) * 100):.2f}%\")\n",
    "print(f\"Porcentagem brancos: {((branco/ total) * 100):.2f}%\")"
   ]
  },
  {
   "attachments": {},
   "cell_type": "markdown",
   "metadata": {},
   "source": [
    "#### 45) Desenvolver um programa para verificar a nota do aluno em uma prova com 10 questões, o programa deve perguntar ao aluno a resposta de cada questão e ao final comparar com o gabarito da prova e assim calcular o total de acertos e a nota (atribuir 1 ponto por resposta certa). Após cada aluno utilizar o sistema deve ser feita uma pergunta se outro aluno vai utilizar o sistema. Após todos os alunos terem respondido informar:\n",
    "- Maior e Menor Acerto;\n",
    "- Total de Alunos que utilizaram o sistema;\n",
    "- A Média das Notas da Turma"
   ]
  },
  {
   "cell_type": "code",
   "execution_count": null,
   "metadata": {},
   "outputs": [],
   "source": [
    "import pandas as pd\n",
    "\n",
    "gabarito = {'1': 'A', '2': 'B', '3': 'C', '4': 'D', '5': 'E', '6': 'E', '7': 'D', '8': 'C', '9': 'B', '10': 'A' }\n",
    "aluno = {'nome': [], 'nota': []}\n",
    "\n",
    "while True:\n",
    "    resp = str(input(\"Gostaria de registrar o quiz de um aluno [S/N]: \")).strip().upper()[0]\n",
    "    if resp == \"N\":\n",
    "        break\n",
    "    aluno['nome'].append(str(input(\"Aluno: \")))\n",
    "    nota = 0\n",
    "    if str(input(\"Resposta da questão 01: \")).upper() == gabarito['1']:\n",
    "        nota += 1\n",
    "    if str(input(\"Resposta da questão 02: \")).upper() == gabarito['2']:\n",
    "        nota += 1\n",
    "    if str(input(\"Resposta da questão 03: \")).upper() == gabarito['3']:\n",
    "        nota += 1\n",
    "    if str(input(\"Resposta da questão 04: \")).upper() == gabarito['4']:\n",
    "        nota += 1\n",
    "    if str(input(\"Resposta da questão 05: \")).upper() == gabarito['5']:\n",
    "        nota += 1\n",
    "    if str(input(\"Resposta da questão 06: \")).upper() == gabarito['6']:\n",
    "        nota += 1\n",
    "    if str(input(\"Resposta da questão 07: \")).upper() == gabarito['7']:\n",
    "        nota += 1\n",
    "    if str(input(\"Resposta da questão 08: \")).upper() == gabarito['8']:\n",
    "        nota += 1\n",
    "    if str(input(\"Resposta da questão 09: \")).upper() == gabarito['9']:\n",
    "        nota += 1\n",
    "    if str(input(\"Resposta da questão 10: \")).upper() == gabarito['10']:\n",
    "        nota += 1\n",
    "    aluno['nota'].append(nota)\n",
    "\n",
    "\n",
    "df = pd.DataFrame(aluno)\n",
    "display(df)\n",
    "print(f\"Maior nota: {df['nota'].max()}\")\n",
    "print(f\"Menor nota: {df['nota'].min()}\")\n",
    "print(f\"Total de alunos: {df[df.columns[0]].count()}\")\n",
    "print(f\"Média de notas: {(df['nota'].mean()):.2f}\")\n",
    "    \n",
    "    "
   ]
  },
  {
   "attachments": {},
   "cell_type": "markdown",
   "metadata": {},
   "source": [
    "#### 46) Em uma competição de salto em distância cada atleta tem direito a cinco saltos. No final da série de saltos de cada atleta, o melhor e o pior resultados são eliminados. O seu resultado fica sendo a média dos três valores restantes. Você deve fazer um programa que receba o nome e as cinco distâncias alcançadas pelo atleta em seus saltos e depois informe a média dos saltos conforme a descrição acima informada (retirar o melhor e o pior salto e depois calcular a média). Faça uso de uma lista para armazenar os saltos. Os saltos são informados na ordem da execução, portanto não são ordenados. O programa deve ser encerrado quando não for informado o nome do atleta."
   ]
  },
  {
   "cell_type": "code",
   "execution_count": 20,
   "metadata": {},
   "outputs": [
    {
     "name": "stdout",
     "output_type": "stream",
     "text": [
      "Melhor salto: 6.5 m \n",
      "Pior salto: 5.3 m \n",
      "Média dos demais saltos: 5.90 m\n"
     ]
    }
   ],
   "source": [
    "import numpy as np\n",
    "\n",
    "saltos = []\n",
    "nome = str(input(\"Atleta: \"))\n",
    "for i in range(1,6):\n",
    "    saltos.append(float(input(f\"{i}º Salto: \")))\n",
    "saltos.sort()\n",
    "\n",
    "print(f\"Melhor salto: {saltos[-1]} m \")\n",
    "print(f\"Pior salto: {saltos[0]} m \")\n",
    "\n",
    "saltos.pop(0)\n",
    "saltos.pop()\n",
    "\n",
    "print(f\"Média dos demais saltos: {(np.mean(saltos)):.2f} m\")"
   ]
  },
  {
   "attachments": {},
   "cell_type": "markdown",
   "metadata": {},
   "source": [
    "#### 47) Em uma competição de ginástica, cada atleta recebe votos de sete jurados. A melhor e a pior nota são eliminadas. A sua nota fica sendo a média dos votos restantes. Você deve fazer um programa que receba o nome do ginasta e as notas dos sete jurados alcançadas pelo atleta em sua apresentação e depois informe a sua média, conforme a descrição acima informada (retirar o melhor e o pior salto e depois calcular a média com as notas restantes). As notas não são informados ordenadas. "
   ]
  },
  {
   "cell_type": "code",
   "execution_count": 21,
   "metadata": {},
   "outputs": [
    {
     "name": "stdout",
     "output_type": "stream",
     "text": [
      "[7.5, 8.5, 8.5, 9.0, 9.5, 9.7, 9.9]\n",
      "Resultado final: \n",
      "Atleta: Aparecido\n",
      "Melhor nota: 9.9\n",
      "Pior nota: 7.5\n",
      "Média dos demais saltos: 9.04\n"
     ]
    }
   ],
   "source": [
    "import numpy as np\n",
    "\n",
    "notas = []\n",
    "nome = str(input(\"Atleta: \"))\n",
    "for i in range(1,8):\n",
    "    notas.append(float(input(f\"{i}º Nota: \")))\n",
    "\n",
    "notas.sort()\n",
    "\n",
    "print(f\"Resultado final: \\nAtleta: {nome}\")\n",
    "print(f\"Melhor nota: {notas[-1]}\")\n",
    "print(f\"Pior nota: {notas[0]}\")\n",
    "\n",
    "notas.pop(0)\n",
    "notas.pop()\n",
    "\n",
    "print(f\"Média dos demais saltos: {(np.mean(notas)):.2f}\")"
   ]
  },
  {
   "attachments": {},
   "cell_type": "markdown",
   "metadata": {},
   "source": [
    "#### 48) Faça um programa que peça um numero inteiro positivo e em seguida mostre este numero invertido."
   ]
  },
  {
   "cell_type": "code",
   "execution_count": 27,
   "metadata": {},
   "outputs": [
    {
     "name": "stdout",
     "output_type": "stream",
     "text": [
      "Número Invertido: 987654321"
     ]
    }
   ],
   "source": [
    "numero = str(input(\"Digite um número: \"))\n",
    "numero_invertido = list(reversed(numero))\n",
    "print(\"Número Invertido: \", end=\"\")\n",
    "for numero in numero_invertido:\n",
    "    print(numero, end=\"\")"
   ]
  },
  {
   "attachments": {},
   "cell_type": "markdown",
   "metadata": {},
   "source": [
    "#### 49) Faça um programa que mostre os n termos da Série a seguir:\n",
    "  - S = 1/1 + 2/3 + 3/5 + 4/7 + 5/9 + ... + n/m. "
   ]
  },
  {
   "cell_type": "code",
   "execution_count": 34,
   "metadata": {},
   "outputs": [
    {
     "name": "stdout",
     "output_type": "stream",
     "text": [
      "S = 1/1 + 2/3 + 3/5 + 4/7 = 2.84\n"
     ]
    }
   ],
   "source": [
    "S = 0\n",
    "n = int(input(\"Quantso termos deseja: \"))\n",
    "m = 1\n",
    "print(\"S = \", end=\"\")\n",
    "for i in range(1,n+1):\n",
    "    print(f\"{i}/{m}\", end=\" \")\n",
    "    print(\"+\" if i != n else \"=\", end=\" \")\n",
    "    S += i/m\n",
    "    m += 2\n",
    "print(f\"{S:.2f}\")\n"
   ]
  },
  {
   "attachments": {},
   "cell_type": "markdown",
   "metadata": {},
   "source": [
    "#### 50) Sendo H= 1 + 1/2 + 1/3 + 1/4 + ... + 1/N, Faça um programa que calcule o valor de H com N termos."
   ]
  },
  {
   "cell_type": "code",
   "execution_count": 35,
   "metadata": {},
   "outputs": [
    {
     "name": "stdout",
     "output_type": "stream",
     "text": [
      "H = 1 + 1/2 + 1/3 + 1/4 = 2.08\n"
     ]
    }
   ],
   "source": [
    "H = 0\n",
    "n = int(input(\"Quantos termos deseja: \"))\n",
    "print(\"H =\", end=\" \")\n",
    "for cont in range(1, n+1):\n",
    "    H += 1 / cont\n",
    "    print(f\"1/{cont}\" if cont != 1 else \"1\", end=\" \")\n",
    "    print(\"+\" if cont != n else \"=\", end=\" \")\n",
    "print(f\"{H:.2f}\")"
   ]
  }
 ],
 "metadata": {
  "kernelspec": {
   "display_name": "Python 3",
   "language": "python",
   "name": "python3"
  },
  "language_info": {
   "codemirror_mode": {
    "name": "ipython",
    "version": 3
   },
   "file_extension": ".py",
   "mimetype": "text/x-python",
   "name": "python",
   "nbconvert_exporter": "python",
   "pygments_lexer": "ipython3",
   "version": "3.11.1"
  },
  "orig_nbformat": 4
 },
 "nbformat": 4,
 "nbformat_minor": 2
}
