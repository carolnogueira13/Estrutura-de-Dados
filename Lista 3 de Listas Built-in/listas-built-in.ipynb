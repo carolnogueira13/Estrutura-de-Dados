{
 "cells": [
  {
   "attachments": {},
   "cell_type": "markdown",
   "metadata": {},
   "source": [
    "# Tarefa 03 - Listas Built-in"
   ]
  },
  {
   "attachments": {},
   "cell_type": "markdown",
   "metadata": {},
   "source": [
    "#### 1) Faça um Programa que leia um vetor de 5 números inteiros e mostre-os"
   ]
  },
  {
   "cell_type": "code",
   "execution_count": 1,
   "metadata": {},
   "outputs": [
    {
     "name": "stdout",
     "output_type": "stream",
     "text": [
      "O vetor é: 1 2 3 4 5 "
     ]
    }
   ],
   "source": [
    "import random\n",
    "\n",
    "lista = []\n",
    "for i in range(5):\n",
    "    lista.append(random.randrange(10))\n",
    "print(\"A lista é: \", end=\"\")\n",
    "for e in lista:\n",
    "    print(e, end=\" \")\n"
   ]
  },
  {
   "attachments": {},
   "cell_type": "markdown",
   "metadata": {},
   "source": [
    "#### 2) Faça um Programa que leia um vetor de 10 números reais e mostre-os na ordem inversa."
   ]
  },
  {
   "cell_type": "code",
   "execution_count": 1,
   "metadata": {},
   "outputs": [
    {
     "name": "stdout",
     "output_type": "stream",
     "text": [
      "A lista direta é: 2 9 1 4 4 0 8 8 5 4 \n",
      "A lista invertida é: 4 5 8 8 0 4 4 1 9 2 \n",
      "A lista invertida é: 4 5 8 8 0 4 4 1 9 2 "
     ]
    }
   ],
   "source": [
    "import random\n",
    "lista = []\n",
    "for i in range(1,11):\n",
    "    lista.append(random.randrange(10))\n",
    "print(\"A lista direta é: \", end=\"\")\n",
    "for e in lista:\n",
    "    print(e, end=\" \")\n",
    "\n",
    "print(\"\\nA lista invertida é: \", end=\"\")\n",
    "for e in range(-1, -(len(lista) + 1), -1):\n",
    "    print(lista[e], end=\" \")\n",
    "\n",
    "lista.reverse()\n",
    "print(\"\\nA lista invertida é: \", end=\"\")\n",
    "for e in lista:\n",
    "    print(e, end=\" \")"
   ]
  },
  {
   "attachments": {},
   "cell_type": "markdown",
   "metadata": {},
   "source": [
    "#### 3) Faça um Programa que leia 4 notas, mostre as notas e a média na tela."
   ]
  },
  {
   "cell_type": "code",
   "execution_count": 2,
   "metadata": {},
   "outputs": [
    {
     "name": "stdout",
     "output_type": "stream",
     "text": [
      "As notas informadas foram: 10.0 9.0 8.0 7.0 \n",
      "A média das notas é: 8.5\n"
     ]
    }
   ],
   "source": [
    "notas = []\n",
    "soma = 0\n",
    "for i in range(4):\n",
    "    while True:\n",
    "        nota = float(input(f\"Insira sua {i + 1}ª nota: \"))\n",
    "        if 0 <= nota <= 10:\n",
    "            break\n",
    "    notas.append(nota)\n",
    "\n",
    "print(\"As notas informadas foram: \", end=\"\")\n",
    "for i in notas:\n",
    "    print(i, end=\" \")\n",
    "\n",
    "print(f\"\\nA média das notas é: {sum(notas)/len(notas)}\")"
   ]
  },
  {
   "attachments": {},
   "cell_type": "markdown",
   "metadata": {},
   "source": [
    "#### 4) Faça um Programa que leia um vetor de 10 caracteres, e diga quantas consoantes foram lidas. Imprima as consoantes."
   ]
  },
  {
   "cell_type": "code",
   "execution_count": 9,
   "metadata": {},
   "outputs": [
    {
     "name": "stdout",
     "output_type": "stream",
     "text": [
      "O número de consoantes da palavra são: 7\n",
      "E as consoantes da palavra são : B C D F G H J "
     ]
    }
   ],
   "source": [
    "consoantes = 0\n",
    "lista_de_consoantes = []\n",
    "palavra = input(\"Digite uma palavra: \").upper()\n",
    "\n",
    "for letra in palavra:\n",
    "    if letra not in (\"A\", \"E\", \"I\", \"O\", \"U\"):\n",
    "        consoantes += 1\n",
    "        lista_de_consoantes.append(letra)\n",
    "\n",
    "print(f\"O número de consoantes da palavra são: {consoantes}\")\n",
    "print(\"E as consoantes da palavra são :\", end=\" \")\n",
    "for c in lista_de_consoantes:\n",
    "    print(c, end=\" \")"
   ]
  },
  {
   "attachments": {},
   "cell_type": "markdown",
   "metadata": {},
   "source": [
    "#### 5) Faça um Programa que leia 20 números inteiros e armazene-os num vetor. Armazene os números pares no vetor PAR e os números IMPARES no vetor impar. Imprima os três vetores."
   ]
  },
  {
   "cell_type": "code",
   "execution_count": null,
   "metadata": {},
   "outputs": [],
   "source": [
    "vetor = []\n",
    "pares = []\n",
    "impares = []\n",
    "\n",
    "for i in range(20):\n",
    "    vetor.append(int(input(f\"Informe o {i+1}º número: \")))\n",
    "\n",
    "print(\"Todos os números:\", end=\" \")\n",
    "for numero in vetor:\n",
    "    print(numero, end=\" \")\n",
    "    if numero % 2 == 0:\n",
    "        pares.append(numero)\n",
    "    else:\n",
    "        impares.append(numero)\n",
    "\n",
    "print(\"\\nNúmeros pares:\", end=\" \")\n",
    "for numero in pares:\n",
    "    print(numero, end=\" \")\n",
    "\n",
    "print(\"\\nNúmeros ímpares:\", end=\" \")\n",
    "for numero in impares:\n",
    "    print(numero, end=\" \")\n"
   ]
  },
  {
   "attachments": {},
   "cell_type": "markdown",
   "metadata": {},
   "source": [
    "#### 6) Faça um Programa que peça as quatro notas de 10 alunos, calcule e armazene num vetor a média de cada aluno, imprima o número de alunos com média maior ou igual a 7.0."
   ]
  },
  {
   "cell_type": "code",
   "execution_count": null,
   "metadata": {},
   "outputs": [],
   "source": [
    "import numpy as np\n",
    "\n",
    "alunos = 10\n",
    "alunos_aprovados = 0\n",
    "medias = [[] for i in range(alunos)]\n",
    "for i in range(alunos):\n",
    "    print(\"-\"*30)\n",
    "    notas = []\n",
    "    for j in range(4):\n",
    "        while True:\n",
    "            nota = float(input(f\"Insira sua {j + 1}ª nota do aluno {i+1}: \"))\n",
    "            if 0 <= nota <= 10:\n",
    "                break\n",
    "        notas.append(nota)\n",
    "    medias[i].append(np.mean(notas))\n",
    "\n",
    "print(medias)\n",
    "for media in medias:\n",
    "    if media[0] >= 7.0:\n",
    "        alunos_aprovados += 1\n",
    "\n",
    "print(f\"O número de alunos com média maior ou igual a sete são {alunos_aprovados}\") "
   ]
  },
  {
   "attachments": {},
   "cell_type": "markdown",
   "metadata": {},
   "source": [
    "#### 7) Faça um Programa que leia um vetor de 5 números inteiros, mostre a soma, a multiplicação e os números."
   ]
  },
  {
   "cell_type": "code",
   "execution_count": null,
   "metadata": {},
   "outputs": [],
   "source": [
    "vetor = []\n",
    "soma = 0\n",
    "multiplicacao = 1\n",
    "for i in range(5):\n",
    "    numero = int(input(\"Digite um número: \"))\n",
    "    soma += numero\n",
    "    multiplicacao *= numero\n",
    "    vetor.append(numero)\n",
    "\n",
    "print(f\"Os números informados foram: {vetor}\")\n",
    "print(f\"Soma dos números: {soma}\")\n",
    "print(f\"Multiplicação dos números: {multiplicacao}\")\n"
   ]
  },
  {
   "attachments": {},
   "cell_type": "markdown",
   "metadata": {},
   "source": [
    "#### 8) Faça um Programa que peça a idade e a altura de 5 pessoas, armazene cada informação no seu respectivo vetor. Imprima a idade e a altura na ordem inversa a ordem lida."
   ]
  },
  {
   "cell_type": "code",
   "execution_count": null,
   "metadata": {},
   "outputs": [],
   "source": [
    "pessoas = 5\n",
    "dados = [[] for i in range(pessoas)]\n",
    "for i in range(pessoas):\n",
    "    print(\"-\"*30)\n",
    "    dados[i].append(int(input(f\"Digite a idade da {i+1}ª pessoa: \")))\n",
    "    dados[i].append(float(input(f\"Digite a altura da {i+1}ª pessoa: \")))\n",
    "print()\n",
    "for i, pessoa in enumerate(dados):\n",
    "    print(f\"{i +1}ª pessoa: \", end=\"\")\n",
    "    pessoa.reverse()\n",
    "    for j, dado in enumerate(pessoa):\n",
    "        if j == 0:\n",
    "            print(f\"{dado} m e \", end=\"\")\n",
    "        else:\n",
    "            print(f\"{dado} anos\")"
   ]
  },
  {
   "attachments": {},
   "cell_type": "markdown",
   "metadata": {},
   "source": [
    "#### 9) Faça um Programa que leia um vetor A com 10 números inteiros, calcule e mostre a soma dos quadrados dos elementos do vetor."
   ]
  },
  {
   "cell_type": "code",
   "execution_count": null,
   "metadata": {},
   "outputs": [],
   "source": [
    "vetor = []\n",
    "soma = 0\n",
    "for i in range(10):\n",
    "    numero = int(input(\"Digite um número: \"))\n",
    "    soma += (numero * numero)\n",
    "    vetor.append(numero)\n",
    "\n",
    "print(f\"Os números informados foram: {vetor}\")\n",
    "print(f\"Soma dos quadrados dos números informados é: {soma}\")"
   ]
  },
  {
   "attachments": {},
   "cell_type": "markdown",
   "metadata": {},
   "source": [
    "#### 10) Faça um Programa que leia dois vetores com 10 elementos cada. Gere um terceiro vetor de 20 elementos, cujos valores deverão ser compostos pelos elementos intercalados dos dois outros vetores."
   ]
  },
  {
   "cell_type": "code",
   "execution_count": null,
   "metadata": {},
   "outputs": [],
   "source": [
    "import random\n",
    "vetor1 = []\n",
    "vetor2 = []\n",
    "vetor3 = []\n",
    "\n",
    "for i in range(10):\n",
    "    vetor1.append(random.randrange(10))\n",
    "    vetor2.append(random.randrange(10))\n",
    "    \n",
    "\n",
    "for i in range(10):\n",
    "    vetor3.append(vetor1[i])\n",
    "    vetor3.append(vetor2[i])\n",
    "\n",
    "print(f\"O vetor 1 formado é: {vetor1}\")\n",
    "print(f\"O vetor 2 formadao é: {vetor2}\")\n",
    "print(f\"O vetor 3 intercalado formado é: {vetor3}\")"
   ]
  },
  {
   "attachments": {},
   "cell_type": "markdown",
   "metadata": {},
   "source": [
    "#### 11) Altere o programa anterior, intercalando 3 vetores de 10 elementos cada."
   ]
  },
  {
   "cell_type": "code",
   "execution_count": null,
   "metadata": {},
   "outputs": [],
   "source": [
    "import random\n",
    "vetor1 = []\n",
    "vetor2 = []\n",
    "vetor3 = []\n",
    "vetor4 = []\n",
    "\n",
    "for i in range(10):\n",
    "    vetor1.append(random.randrange(10))\n",
    "    vetor2.append(random.randrange(10))\n",
    "    vetor3.append(random.randrange(10))\n",
    "    \n",
    "\n",
    "for i in range(10):\n",
    "    vetor4.append(vetor1[i])\n",
    "    vetor4.append(vetor2[i])\n",
    "    vetor4.append(vetor3[i])\n",
    "\n",
    "print(f\"O vetor 1 formado é: {vetor1}\")\n",
    "print(f\"O vetor 2 formado é: {vetor2}\")\n",
    "print(f\"O vetor 3 formado é: {vetor3}\")\n",
    "print(f\"O vetor 4 intercalado formadao é: {vetor4}\")"
   ]
  },
  {
   "attachments": {},
   "cell_type": "markdown",
   "metadata": {},
   "source": [
    "#### 12) Foram anotadas as idades e alturas de 30 alunos. Faça um Programa que determine quantos alunos com mais de 13 anos possuem altura inferior à média de altura desses alunos."
   ]
  },
  {
   "cell_type": "code",
   "execution_count": 11,
   "metadata": {},
   "outputs": [
    {
     "name": "stdout",
     "output_type": "stream",
     "text": [
      "O número de alunos maiores de 13 anos e com altura inferior à média são: 9 alunos\n",
      "O número de alunos maiores de 13 anos e com altura inferior à média são: 9 alunos\n"
     ]
    }
   ],
   "source": [
    "# Duas formas:\n",
    "\n",
    "# 1ª forma (sem pandas e somente com listas):\n",
    "\n",
    "'''Leitura da idade e altura dos alunos:\n",
    "alunos = [[] for i in range(30)]\n",
    "for i in range(30):\n",
    "    alunos[i].append(int(input(f\"Digite a idade da {i+1}ª pessoa: \"))\n",
    "    alunos[i].append(float(input(f\"Digite a altura da {i+1}ª pessoa: \")))'''\n",
    "\n",
    "alunos = [[21, 1.8],[22, 1.8],[23, 1.7],[24, 1.8],[25, 1.7],[26, 1.8],[27, 1.7],[28, 1.8],[29, 1.8],[30, 1.8],[21, 1.8],[22, 1.8],[23, 1.7],[24, 1.8],[25, 1.7],[26, 1.8],[27, 1.7],[28, 1.8],[29, 1.8],[30, 1.8],[21, 1.8],[22, 1.8],[23, 1.7],[24, 1.8],[25, 1.7],[26, 1.8],[27, 1.7],[28, 1.8],[29, 1.8], [30, 1.8]]\n",
    "\n",
    "soma_de_altura = media_de_altura = alunos_procurados = 0\n",
    "\n",
    "for i, termo in enumerate(alunos):\n",
    "    soma_de_altura += termo[1]\n",
    "\n",
    "media_de_altura = soma_de_altura/30\n",
    "\n",
    "for i, termo in enumerate(alunos):\n",
    "    if termo[0] >= 13 and termo[1] <= media_de_altura:\n",
    "        alunos_procurados += 1\n",
    "\n",
    "print(f\"O número de alunos maiores de 13 anos e com altura inferior à média são: {alunos_procurados} alunos\")\n",
    "        \n",
    "\n",
    "\n",
    "# 2ª forma (com pandas e dicionarios):\n",
    "\n",
    "import pandas as pd\n",
    "\n",
    "'''Leitura da idade e altura dos alunos:\n",
    "alunos = {'idade': [], 'altura': []}\n",
    "for i in range(30):\n",
    "    alunos['idade'].append(int(input(\"Idade: \")))\n",
    "    alunos['altura'].append(float(input(\"Altura: \")))\n",
    "'''\n",
    "\n",
    "alunos = {'idade': [21,22,23,24,25,26,27,28,29,30,21,22,23,24,25,26,27,28,29,30, 21,22,23,24,25,26,27,28,29,30], \n",
    "          'altura': [1.8, 1.8, 1.7, 1.8, 1.7, 1.8, 1.7, 1.8, 1.8, 1.8, 1.8, 1.8, 1.7, 1.8, 1.7, 1.8, 1.7, 1.8, 1.8, 1.8, 1.8, 1.8, 1.7, 1.8, 1.7, 1.8, 1.7, 1.8, 1.8, 1.8]}\n",
    "\n",
    "\n",
    "df = pd.DataFrame(alunos)\n",
    "\n",
    "media_de_altura = df['altura'].mean()\n",
    "\n",
    "alunos_procurados = df.loc[(df['idade'] >= 13) & (df['altura'] < media_de_altura)]\n",
    "\n",
    "print(f\"O número de alunos maiores de 13 anos e com altura inferior à média são: {len(alunos_procurados)} alunos\")\n"
   ]
  },
  {
   "attachments": {},
   "cell_type": "markdown",
   "metadata": {},
   "source": [
    "#### 13) Faça um programa que receba a temperatura média de cada mês do ano e armazene-as em uma lista. Após isto, calcule a média anual das temperaturas e mostre todas as temperaturas acima da média anual, e em que mês elas ocorreram (mostrar o mês por extenso: 1 – Janeiro, 2 – Fevereiro, . . . )."
   ]
  },
  {
   "cell_type": "code",
   "execution_count": null,
   "metadata": {},
   "outputs": [],
   "source": [
    "media_de_temperaturas = []\n",
    "soma_das_temp = 0\n",
    "\n",
    "for i in range(12):\n",
    "    temp = float(input(f\"Média de temperatura do mês {i+1}: \"))\n",
    "    soma_das_temp += temp\n",
    "    media_de_temperaturas.append(temp)\n",
    "\n",
    "media_de_temperaturas_anual = soma_das_temp/12\n",
    "print(f\"Média de temperatura anual: {media_de_temperaturas_anual:.2f}ºC\")\n",
    "\n",
    "print(\"Meses acima da média de temperatura anual:\")\n",
    "meses = {1:'Janeiro', 2:'Fevereiro', 3:'Março', 4:'Abril', 5:'Maio', 6:'Junho', 7:'Julho', 8:'Agosto',\n",
    "        9:'Setembro', 10:'Outubro', 11:'Novembro', 12:'Dezembro'}\n",
    "for i, media in enumerate(media_de_temperaturas):\n",
    "    if media > media_de_temperaturas_anual:\n",
    "        print(f\"{i + 1} - {meses[i+1]}: {media}ºC\") "
   ]
  },
  {
   "attachments": {},
   "cell_type": "markdown",
   "metadata": {},
   "source": [
    "#### 14) Utilizando listas faça um programa que faça 5 perguntas para uma pessoa sobre um crime. As perguntas são:\n",
    "- \"Telefonou para a vítima?\"\n",
    "- \"Esteve no local do crime?\"\n",
    "- \"Mora perto da vítima?\"\n",
    "- \"Devia para a vítima?\"\n",
    "- \"Já trabalhou com a vítima?\" \n",
    "#### O programa deve no final emitir uma classificação sobre a participação da pessoa no crime. Se a pessoa responder positivamente a 2 questões ela deve ser classificada como \"Suspeita\", entre 3 e 4 como \"Cúmplice\" e 5 como \"Assassino\". Caso contrário, ele será classificado como \"Inocente\"."
   ]
  },
  {
   "cell_type": "code",
   "execution_count": null,
   "metadata": {},
   "outputs": [],
   "source": [
    "perguntas = [\"Telefonou para a vítima? [S/N]\",\n",
    "             \"Esteve no local do crime? [S/N]\",\n",
    "             \"Mora perto da vitima? [S/N]\",\n",
    "             \"Devia para a vitima? [S/N]\",\n",
    "             \"Já trabalhou com a vítima? [S/N]\"]\n",
    "\n",
    "positivo = 0\n",
    "\n",
    "for item in perguntas:\n",
    "    resp = \" \"\n",
    "    while resp not in (\"S\", \"N\"):\n",
    "        resp = input(item).upper()[0]\n",
    "    if resp == \"S\":\n",
    "        positivo += 1\n",
    "\n",
    "if positivo == 2:\n",
    "    print(\"Suspeita\")\n",
    "elif positivo in (3, 4):\n",
    "    print(\"Cúmplice\")\n",
    "elif positivo == 5:\n",
    "    print(\"Assasssino\")\n",
    "else:\n",
    "    print(\"Inocente\")"
   ]
  },
  {
   "attachments": {},
   "cell_type": "markdown",
   "metadata": {},
   "source": [
    "#### 15) Faça um programa que leia um número indeterminado de valores, correspondentes a notas, encerrando a entrada de dados quando for informado um valor igual a -1 (que não deve ser armazenado). Após esta entrada de dados, faça:\n",
    "- Mostre a quantidade de valores que foram lidos;\n",
    "- Exiba todos os valores na ordem em que foram informados, um ao lado do outro;\n",
    "- Exiba todos os valores na ordem inversa à que foram informados, um abaixo do outro;\n",
    "- Calcule e mostre a soma dos valores;\n",
    "- Calcule e mostre a média dos valores;\n",
    "- Calcule e mostre a quantidade de valores acima da média calculada;\n",
    "- Calcule e mostre a quantidade de valores abaixo de sete;\n",
    "- Encerre o programa com uma mensagem;"
   ]
  },
  {
   "cell_type": "code",
   "execution_count": null,
   "metadata": {},
   "outputs": [],
   "source": [
    "notas = []\n",
    "soma = 0\n",
    "notas_acima_da_media = notas_abaixo_de_sete = 0\n",
    "\n",
    "while True:\n",
    "    nota = float(input(\"Insira sua nota [-1 para parar]: \"))\n",
    "    if nota == -1:\n",
    "        break\n",
    "    soma += nota\n",
    "    notas.append(nota)\n",
    "\n",
    "media = soma/len(notas)\n",
    "print(f\"Foram lidas {len(notas)} notas\")\n",
    "print(\"Notas na ordem que foram informadas:\", end=\" \")\n",
    "for nota in notas:\n",
    "    if nota > media:\n",
    "        notas_acima_da_media += 1\n",
    "    if nota < 7.0:\n",
    "        notas_abaixo_de_sete += 1\n",
    "    print(nota, end=\" \")\n",
    "print(\"\\nNotas na ordem inversa que foram informadas:\")\n",
    "for nota in reversed(notas):\n",
    "    print(nota) \n",
    "print(f\"Soma das notas: {soma}\")\n",
    "print(f\"Média das notas: {media:.2f}\")\n",
    "print(f\"Quantidade de notas acima da média: {notas_acima_da_media}\")\n",
    "print(f\"Quantidade de notas abaixo de sete: {notas_abaixo_de_sete}\")\n",
    "print(f\"PROGRAMA ENCERRADO\")"
   ]
  },
  {
   "attachments": {},
   "cell_type": "markdown",
   "metadata": {},
   "source": [
    "#### 16) Utilize uma lista para resolver o problema a seguir. Uma empresa paga seus vendedores com base em comissões. O vendedor recebe $200 por semana mais 9 por cento de suas vendas brutas daquela semana. Por exemplo, um vendedor que teve vendas brutas de $3000 em uma semana recebe $200 mais 9 por cento de $3000, ou seja, um total de $470. Escreva um programa (usando um array de contadores) que determine quantos vendedores receberam salários nos seguintes intervalos de valores:\n",
    "- $200 - $299\n",
    "- $300 - $399\n",
    "- $400 - $499\n",
    "- $500 - $599\n",
    "- $600 - $699\n",
    "- $700 - $799\n",
    "- $800 - $899\n",
    "- $900 - $999\n",
    "- $1000 em diante\n",
    "\n",
    "- Desafio: Crie uma fórmula para chegar na posição da lista a partir do salário, sem fazer vários ifs aninhados."
   ]
  },
  {
   "cell_type": "code",
   "execution_count": 1,
   "metadata": {},
   "outputs": [
    {
     "name": "stdout",
     "output_type": "stream",
     "text": [
      "\n",
      "Faixa salariais     Número de vendedores\n",
      "$200 - $299:          1\n",
      "$300 - $399:          1\n",
      "$400 - $499:          1\n",
      "$500 - $599:          0\n",
      "$600 - $699:          0\n",
      "$700 - $799:          0\n",
      "$800 - $899:          0\n",
      "$900 - $999:          0\n",
      "$1000 em diante:      0\n"
     ]
    }
   ],
   "source": [
    "vendas = []\n",
    "while True:\n",
    "    venda = float(input(\"Indique a venda brutas da semana do vendedor (0=parar o programa): $ \"))\n",
    "    if venda == 0:\n",
    "        break\n",
    "    vendas.append(venda)\n",
    "\n",
    "\n",
    "contadores = [0] * 9\n",
    "\n",
    "for venda in vendas:\n",
    "    salario = 200 + 0.09 * venda\n",
    "    indice = int((salario - 200) // 100)\n",
    "    indice = min(indice, 8)\n",
    "    contadores[indice] += 1\n",
    "\n",
    "print(f'\\n{\"Faixa salariais\":<20}{\"Número de vendedores\"}')\n",
    "for i, contagem in enumerate(contadores):\n",
    "    if i == 8:\n",
    "        print(f\"$1000 em diante: {contagem:>6}\")\n",
    "    else:\n",
    "        print(f\"${200 + (i * 100)} - ${299 + (i * 100)}: {contagem:>10}\")"
   ]
  },
  {
   "attachments": {},
   "cell_type": "markdown",
   "metadata": {},
   "source": [
    "#### 17) Em uma competição de salto em distância cada atleta tem direito a cinco saltos. O resultado do atleta será determinado pela média dos cinco valores restantes. Você deve fazer um programa que receba o nome e as cinco distâncias alcançadas pelo atleta em seus saltos e depois informe o nome, os saltos e a média dos saltos. O programa deve ser encerrado quando não for informado o nome do atleta."
   ]
  },
  {
   "cell_type": "code",
   "execution_count": 3,
   "metadata": {},
   "outputs": [
    {
     "name": "stdout",
     "output_type": "stream",
     "text": [
      "Resultado final: \n",
      "Atleta: Rodrigo \n",
      "Saltos: 6.5 - 6.1 - 6.2 - 5.4 - 5.3\n",
      "Média dos saltos: 5.9 m\n"
     ]
    }
   ],
   "source": [
    "import numpy as np\n",
    "\n",
    "nomes = []\n",
    "saltos = []\n",
    "\n",
    "while True:\n",
    "    nome = str(input(\"Atleta: \"))\n",
    "    if nome == \"\":\n",
    "        break\n",
    "    nomes.append(nome)\n",
    "    saltos.append(float(input(\"Primeiro Salto:\")))\n",
    "    saltos.append(float(input(\"Segundo Salto:\")))\n",
    "    saltos.append(float(input(\"Terceiro Salto:\")))\n",
    "    saltos.append(float(input(\"Quarto Salto:\")))\n",
    "    saltos.append(float(input(\"Quinto Salto:\")))\n",
    "\n",
    "print(\"Resultado final: \")\n",
    "print(f\"Atleta: {nomes[0]}\")\n",
    "print(f\"Saltos: \", end=\"\")\n",
    "for i, salto in enumerate(saltos):\n",
    "    if i != (len(saltos)-1):\n",
    "        print(f\"{salto} - \", end=\"\")\n",
    "    else:\n",
    "        print(salto)\n",
    "print(f\"Média dos saltos: {np.mean(saltos)} m\")\n",
    "    "
   ]
  },
  {
   "attachments": {},
   "cell_type": "markdown",
   "metadata": {},
   "source": [
    "#### 18) Uma grande emissora de televisão quer fazer uma enquete entre os seus telespectadores para saber qual o melhor jogador após cada jogo. Para isto, faz-se necessário o desenvolvimento de um programa, que será utilizado pelas telefonistas, para a computação dos votos. Sua equipe foi contratada para desenvolver este programa, utilizando a linguagem de programação python. Para computar cada voto, a telefonista digitará um número, entre 1 e 23, correspondente ao número da camisa do jogador. Um número de jogador igual zero, indica que a votação foi encerrada. Se um número inválido for digitado, o programa deve ignorá-lo, mostrando uma breve mensagem de aviso, e voltando a pedir outro número. Após o final da votação, o programa deverá exibir:\n",
    "- O total de votos computados;\n",
    "- Os númeos e respectivos votos de todos os jogadores que receberam votos;\n",
    "- O percentual de votos de cada um destes jogadores;\n",
    "- O número do jogador escolhido como o melhor jogador da partida, juntamente com o número de votos e o percentual de votos dados a ele.\n",
    "- Observe que os votos inválidos e o zero final não devem ser computados como votos. O resultado aparece ordenado pelo número do jogador. O programa deve fazer uso de arrays. O programa deverá executar o cálculo do percentual de cada jogador através de uma função. Esta função receberá dois parâmetros: o número de votos de um jogador e o total de votos. A função calculará o percentual e retornará o valor calculado. Abaixo segue uma tela de exemplo. O disposição das informações deve ser o mais próxima possível ao exemplo. Os dados são fictícios e podem mudar a cada execução do programa. Ao final, o programa deve ainda gravar os dados referentes ao resultado da votação em um arquivo texto no disco, obedecendo a mesma disposição apresentada na tela."
   ]
  },
  {
   "cell_type": "code",
   "execution_count": null,
   "metadata": {},
   "outputs": [],
   "source": [
    "def porcentagem(votos, total_de_votos):\n",
    "    return (100 * votos) / total_de_votos\n",
    "\n",
    "\n",
    "votos = []\n",
    "\n",
    "print(\"Enquete: Quem foi o melhor jogador?\")\n",
    "\n",
    "while True:\n",
    "    voto = int(input(\"Número do jogador (0=fim): \"))\n",
    "    if voto == 0:\n",
    "        break\n",
    "    if voto > 23 or voto < 0:\n",
    "        print(\"Informe um valor entre 1 e 23 ou 0 para sair!\")\n",
    "        continue\n",
    "    votos.append(voto)\n",
    "\n",
    "\n",
    "porcentagens = []\n",
    "for i in range(1,24):\n",
    "    porcentagens.append(porcentagem(votos.count(i), len(votos)))\n",
    "\n",
    "\n",
    "# Cria o cabeçalho do relatório\n",
    "cabecalho = \"Resultado da votação:\\n\"\n",
    "cabecalho += f\"\\nForam computados {len(votos)} votos\\n\"\n",
    "print(cabecalho)\n",
    "\n",
    "# Cria o corpo do relatório\n",
    "corpo = f'\\n{\"Jogador\":<10}{\"Votos\":<10}{\"Porcentagem\":<10}\\n'\n",
    "for i, por in enumerate(porcentagens):\n",
    "    if por != 0:\n",
    "        corpo += f\"{(i + 1):<10} {votos.count(i+1):<10} {por:<10.2f}%\\n\"\n",
    "print(corpo)\n",
    "\n",
    "# Cria o rodapé do relatório\n",
    "rodape = ''\n",
    "for i, por in enumerate(porcentagens):\n",
    "    if por == max(porcentagens):\n",
    "        rodape += f\"O melhor jogador foi o número {i+1}, com {votos.count(i+1)} votos, correspondendo a {por}% do total de votos \"\n",
    "print(rodape)\n",
    "\n",
    "\n",
    "with open('relatorio_jogadores.txt', 'w') as arquivo:\n",
    "    arquivo.write(cabecalho + corpo + rodape)\n"
   ]
  },
  {
   "attachments": {},
   "cell_type": "markdown",
   "metadata": {},
   "source": [
    "#### 19) Você foi contratado para desenvolver um programa que leia o resultado da enquete de sistemas operacionais de computadores e informe ao final o resultado da mesma. O programa deverá ler os valores até ser informado o valor 0, que encerra a entrada dos dados. Não deverão ser aceitos valores além dos válidos para o programa (0 a 6). Os valores referentes a cada uma das opções devem ser armazenados num vetor. Após os dados terem sido completamente informados, o programa deverá calcular a percentual de cada um dos concorrentes e informar o vencedor da enquete. "
   ]
  },
  {
   "cell_type": "code",
   "execution_count": null,
   "metadata": {},
   "outputs": [],
   "source": [
    "def porcentagem(votos, total_de_votos):\n",
    "    return (100 * votos) / total_de_votos\n",
    "\n",
    "\n",
    "votos = []\n",
    "\n",
    "print(\"Enquete: Qual o melhor Sistema Operacional para uso em servidores?\")\n",
    "\n",
    "while True:\n",
    "    voto = int(input(\"\"\"\n",
    "1 - Windows Server\n",
    "2 - Unix\n",
    "3 - Linux\n",
    "4 - Netware\n",
    "5 - Mac OS\n",
    "6 - Outros\n",
    "Sua opção (0=fim): \"\"\"))\n",
    "    if voto == 0:\n",
    "        break\n",
    "    if voto not in (1,2,3,4,5,6):\n",
    "        print(\"Informe um valor entre 1 e 6 ou 0 para sair!\")\n",
    "        continue\n",
    "    votos.append(voto)\n",
    "\n",
    "print(\"\\nResultado da votação:\")\n",
    "\n",
    "\n",
    "porcentagens = []\n",
    "for i in range(1,7):\n",
    "    porcentagens.append(porcentagem(votos.count(i), len(votos)))\n",
    "\n",
    "print(f\"\\n{'Sistema operacional':<30}{'Votos':<10}{'Porcentagem':<10}\")\n",
    "print(\"-\"*60)\n",
    "sistemas = {1:\"Windows Server\", 2:\"Unix\", 3:\"Linux\", 4:\"Netware\", 5:\"Mac OS\", 6:\"Outro\"}\n",
    "for i, por in enumerate(porcentagens):\n",
    "    if por != 0:\n",
    "        print(f\"{(sistemas[i+1]):<30} {votos.count(i+1):<10} {por:<10.2f}%\")\n",
    "print(\"-\"*60)\n",
    "print(f\"{'Total':<30}{len(votos):<10}\")\n",
    "\n",
    "for i, por in enumerate(porcentagens):\n",
    "    if por == max(porcentagens):\n",
    "        print(f\"\\nO sistema operacional mais votado foi o {sistemas[i+1]}, com {votos.count(i+1):.2f} votos, correspondendo a {por}% do total de votos \")"
   ]
  },
  {
   "attachments": {},
   "cell_type": "markdown",
   "metadata": {},
   "source": [
    "#### 20) Programa de abono de salários"
   ]
  },
  {
   "cell_type": "code",
   "execution_count": null,
   "metadata": {},
   "outputs": [],
   "source": [
    "def abono(salario):\n",
    "    if salario < 1000:\n",
    "        return 100.00\n",
    "    else:\n",
    "        return (salario * 0.2)\n",
    "\n",
    "\n",
    "salarios = []\n",
    "valor_minimo = 0\n",
    "\n",
    "print(\"Projeção de gastos com abono\")\n",
    "\n",
    "while True:\n",
    "    sal = float(input(\"Salário: \"))\n",
    "    if sal == 0:\n",
    "        break\n",
    "    salarios.append(sal)\n",
    "\n",
    "\n",
    "abonos = []\n",
    "for salario in salarios:\n",
    "    if salario < 1000:\n",
    "        valor_minimo += 1\n",
    "    abonos.append(abono(salario))\n",
    "\n",
    "print(f\"\\n{'Salario':<12}{'- Abono':<10}\")\n",
    "for salario, abono in zip(salarios, abonos):\n",
    "    print(f\"{f'R${salario:<10.2f}'}{f'- ${abono:<10.2f}'}\")\n",
    "\n",
    "print(f\"\\nForam processados {len(salarios)} colaboradores\")\n",
    "print(f\"Total gasto com abonos: R${sum(abonos):.2f}\")\n",
    "print(f\"Valor mínimo pago a {valor_minimo} colaboradores\")\n",
    "print(f\"Maior valor de abono pago: R${max(abonos):.2f}\")"
   ]
  },
  {
   "attachments": {},
   "cell_type": "markdown",
   "metadata": {},
   "source": [
    "#### 21) Faça um programa que carregue uma lista com os modelos de cinco carros (exemplo de modelos: FUSCA, GOL, VECTRA etc). Carregue uma outra lista com o consumo desses carros, isto é, quantos quilômetros cada um desses carros faz com um litro de combustível. Calcule e mostre:\n",
    "- O modelo do carro mais econômico;\n",
    "- Quantos litros de combustível cada um dos carros cadastrados consome para percorrer uma distância de 1000 quilômetros e quanto isto custará, considerando um que a gasolina custe R$ 2,25 o litro. "
   ]
  },
  {
   "cell_type": "code",
   "execution_count": null,
   "metadata": {},
   "outputs": [],
   "source": [
    "def litros_distancia(km, distancia=1000):\n",
    "    return distancia/km\n",
    "\n",
    "modelos = []\n",
    "consumo = []\n",
    "litros = []\n",
    "\n",
    "print(\"Comparativo de Consumo de Combustível\")\n",
    "for i in range(1,6):\n",
    "    print(f\"Veículo {i}\")\n",
    "    modelos.append(str(input(\"Nome: \")))\n",
    "    consumo.append(float(input(\"Km por litro: \")))\n",
    "\n",
    "for c in consumo:\n",
    "    litros.append(litros_distancia(c))\n",
    "\n",
    "print(\"\\nRelatório final:\")\n",
    "cont = 1\n",
    "for m, c, l in zip(modelos, consumo, litros):\n",
    "    print(f\"{cont} - {m:<10} - {c:>5} - {l:.2f} litros - R${2.25 * l:.2f}\")\n",
    "    cont += 1\n",
    "\n",
    "for m, l in zip(modelos, litros):\n",
    "    if l == min(litros):\n",
    "        print(f\"\\nO menor consumo é do {m}\")\n",
    "        "
   ]
  },
  {
   "attachments": {},
   "cell_type": "markdown",
   "metadata": {},
   "source": [
    "#### 22) Programa de defeitos em mouses"
   ]
  },
  {
   "cell_type": "code",
   "execution_count": null,
   "metadata": {},
   "outputs": [],
   "source": [
    "def porcentagem(defeit, total_de_defeitos):\n",
    "    return (100 * defeit) / total_de_defeitos\n",
    "\n",
    "defeitos = []\n",
    "identificacao_defeitos = {1: 'Necessita de esfera', 2: 'Necessita de limpeza',\n",
    "                          3: 'Necessita de troca de cabo ou conector', 4: 'Quebrado ou inutilizado'}\n",
    "i = 1\n",
    "while True:\n",
    "    print(f\"Mouse {i}\")\n",
    "    defeito = int(input(f\"\"\"1 - {identificacao_defeitos[1]}\n",
    "2 - {identificacao_defeitos[2]}\n",
    "3 - {identificacao_defeitos[3]}\n",
    "4 - {identificacao_defeitos[4]}\n",
    "Escolha sua opção (0 - para o programa): \"\"\"))\n",
    "    if defeito == 0:\n",
    "        break\n",
    "    if defeito not in (1, 2, 3, 4):\n",
    "        print(\"Escolha uma opção válida de 1 a 4 ou 0 para parar o programa\")\n",
    "        continue\n",
    "    defeitos.append(defeito)\n",
    "    i += 1\n",
    "\n",
    "porcentagens = []\n",
    "for i in range(1,5):\n",
    "    porcentagens.append(porcentagem(defeitos.count(i), len(defeitos)))\n",
    "\n",
    "print(f\"\\nQuantidade de mouses: {len(defeitos)}\")\n",
    "\n",
    "print(f\"\\n{'Situação':<44}{'Quantidade':<15}{'Percentual':<10}\")\n",
    "for i, por in enumerate(porcentagens):\n",
    "    print(f\"{i+1} - {(identificacao_defeitos[i+1]):<40} {defeitos.count(i+1):<15} {por:<10.2f}%\")"
   ]
  },
  {
   "attachments": {},
   "cell_type": "markdown",
   "metadata": {},
   "source": [
    "#### 23) A ACME Inc., uma empresa de 500 funcionários, está tendo problemas de espaço em disco no seu servidor de arquivos. Para tentar resolver este problema, o Administrador de Rede precisa saber qual o espaço ocupado pelos usuários, e identificar os usuários com maior espaço ocupado."
   ]
  },
  {
   "cell_type": "code",
   "execution_count": null,
   "metadata": {},
   "outputs": [],
   "source": [
    "def converte_MB(bytes):\n",
    "    return bytes / (1024.00 * 1024.00)\n",
    "\n",
    "\n",
    "def porcentagem(parte, total):\n",
    "    return (100 * parte) / total\n",
    "\n",
    "\n",
    "with open('usuarios.txt', 'r') as arquivo:\n",
    "    dados_usuarios = [linha.strip().split() for linha in arquivo]\n",
    "\n",
    "\n",
    "tamanho_total_em_bytes = sum(int(dados[1]) for dados in dados_usuarios)\n",
    "\n",
    "# Cria o cabeçalho do relatório\n",
    "cabecalho = f\"ACME Inc.{'':26}Uso do espaço em disco pelos usuários\\n\"\n",
    "cabecalho += \"-\" * 70 + \"\\n\"\n",
    "cabecalho += f\"{'Nr.':<6}{'Usuário':<16}{'Espaço utilizado':>20}{'% do uso':>13}\\n\"\n",
    "\n",
    "# Cria o corpo do relatório\n",
    "corpo = ''\n",
    "for i, dados in enumerate(dados_usuarios):\n",
    "    nome, tamanho_em_bytes = dados\n",
    "    tamanho_em_MB = converte_MB(int(tamanho_em_bytes))\n",
    "    percentual_do_uso = porcentagem(int(tamanho_em_bytes), tamanho_total_em_bytes)\n",
    "    corpo += f'{i+1:<6}{nome:<16}{tamanho_em_MB:>19.2f} MB{percentual_do_uso:>13.2f}%\\n'\n",
    "\n",
    "# Cria o rodapé do relatório\n",
    "rodape = '-' * 70 + '\\n'\n",
    "rodape += f'{\"Espaço total ocupado:\":<37}{converte_MB(tamanho_total_em_bytes):>22.2f} MB\\n'\n",
    "rodape += f'{\"Espaço médio ocupado:\":<37}{converte_MB(tamanho_total_em_bytes / len(dados_usuarios)):>22.2f} MB\\n'\n",
    "\n",
    "with open('relatorio.txt', 'w') as arquivo:\n",
    "    arquivo.write(cabecalho + corpo + rodape)"
   ]
  },
  {
   "attachments": {},
   "cell_type": "markdown",
   "metadata": {},
   "source": [
    "#### 24) Faça um programa que simule um lançamento de dados. Lance o dado 100 vezes e armazene os resultados em um vetor.Depois, mostre quantas vezes cada valor foi conseguido. Dica: use um vetor de contadores(1-6) e uma função para gerar numeros aleatórios, simulando os lançamentos dos dados."
   ]
  },
  {
   "cell_type": "code",
   "execution_count": null,
   "metadata": {},
   "outputs": [],
   "source": [
    "import random\n",
    "\n",
    "\n",
    "def porcentagem(parte, total):\n",
    "    return (100 * parte) / total\n",
    "\n",
    "\n",
    "# Lista dos 100 lançaementos\n",
    "lancamentos = []\n",
    "for i in range(100):\n",
    "    lancamentos.append(random.randint(1, 6))\n",
    "\n",
    "# Lista da porcentagem de cada tipo de lançamento\n",
    "porcentagens = []\n",
    "for i in range(1, 7):\n",
    "    porcentagens.append(porcentagem(lancamentos.count(i), len(lancamentos)))\n",
    "\n",
    "print(f\"\\n{'Valor':<20}{'Nº de Lançamentos':<20}{'Porcentagem'}\")\n",
    "for i, por in enumerate(porcentagens):\n",
    "    print(f\"{i + 1:<20} {lancamentos.count(i + 1):<20} {por:<10.2f}%\")\n",
    "print(f\"\\nNº de Lançamentos totais: {len(lancamentos)}\")"
   ]
  }
 ],
 "metadata": {
  "kernelspec": {
   "display_name": "Python 3",
   "language": "python",
   "name": "python3"
  },
  "language_info": {
   "codemirror_mode": {
    "name": "ipython",
    "version": 3
   },
   "file_extension": ".py",
   "mimetype": "text/x-python",
   "name": "python",
   "nbconvert_exporter": "python",
   "pygments_lexer": "ipython3",
   "version": "3.11.1"
  },
  "orig_nbformat": 4,
  "vscode": {
   "interpreter": {
    "hash": "c261aea317cc0286b3b3261fbba9abdec21eaa57589985bb7a274bf54d6cc0a7"
   }
  }
 },
 "nbformat": 4,
 "nbformat_minor": 2
}
