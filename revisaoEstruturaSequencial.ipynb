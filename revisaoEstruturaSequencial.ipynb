{
 "cells": [
  {
   "attachments": {},
   "cell_type": "markdown",
   "metadata": {},
   "source": [
    "# Revisão 01 - estrutura sequencial\n"
   ]
  },
  {
   "attachments": {},
   "cell_type": "markdown",
   "metadata": {},
   "source": [
    "#### 1) Faça um Programa que mostre a mensagem \"Alo mundo\" na tela."
   ]
  },
  {
   "cell_type": "code",
   "execution_count": 1,
   "metadata": {},
   "outputs": [
    {
     "name": "stdout",
     "output_type": "stream",
     "text": [
      "Olá mundo!\n"
     ]
    }
   ],
   "source": [
    "print(\"Olá mundo!\")"
   ]
  },
  {
   "attachments": {},
   "cell_type": "markdown",
   "metadata": {},
   "source": [
    "#### 2) Faça um Programa que peça um número e então mostre a mensagem O número informado foi [número]."
   ]
  },
  {
   "cell_type": "code",
   "execution_count": 2,
   "metadata": {},
   "outputs": [
    {
     "name": "stdout",
     "output_type": "stream",
     "text": [
      "O número informado foi 12\n"
     ]
    }
   ],
   "source": [
    "x = input(\"Informe um número: \")\n",
    "print(f\"O número informado foi {x}\")"
   ]
  },
  {
   "attachments": {},
   "cell_type": "markdown",
   "metadata": {},
   "source": [
    "#### 3) Faça um Programa que peça dois números e imprima a soma."
   ]
  },
  {
   "cell_type": "code",
   "execution_count": 4,
   "metadata": {},
   "outputs": [
    {
     "name": "stdout",
     "output_type": "stream",
     "text": [
      "A soma de 12 e 11 é 23\n"
     ]
    }
   ],
   "source": [
    "x1 = int(input(\"Informe o primeiro número: \"))\n",
    "x2 = int(input(\"Informe o segundo número: \"))\n",
    "print(f\"A soma de {x1} e {x2} é {x1 + x2}\")"
   ]
  },
  {
   "attachments": {},
   "cell_type": "markdown",
   "metadata": {},
   "source": [
    "#### 4) Faça um Programa que peça as 4 notas bimestrais e mostre a média."
   ]
  },
  {
   "cell_type": "code",
   "execution_count": 7,
   "metadata": {},
   "outputs": [
    {
     "name": "stdout",
     "output_type": "stream",
     "text": [
      "A média das notas informadas foi 8.0\n"
     ]
    }
   ],
   "source": [
    "soma = 0\n",
    "for i in range(1,5):\n",
    "    x = float(input(f\"Informe a {i}º nota: \"))\n",
    "    soma += x\n",
    "media = soma/4\n",
    "print(f\"A média das notas informadas foi {media}\")"
   ]
  },
  {
   "attachments": {},
   "cell_type": "markdown",
   "metadata": {},
   "source": [
    "#### 5) Faça um Programa que converta metros para centímetros."
   ]
  },
  {
   "cell_type": "code",
   "execution_count": 9,
   "metadata": {},
   "outputs": [
    {
     "name": "stdout",
     "output_type": "stream",
     "text": [
      "A medida 1.2m equivale a 120.0cm\n"
     ]
    }
   ],
   "source": [
    "metros = float(input(\"Entre com uma médida em metros: \"))\n",
    "cm = metros * 100\n",
    "print(f\"A medida {metros}m equivale a {cm}cm\")"
   ]
  },
  {
   "attachments": {},
   "cell_type": "markdown",
   "metadata": {},
   "source": [
    "#### 6) Faça um Programa que peça o raio de um círculo, calcule e mostre sua área."
   ]
  },
  {
   "cell_type": "code",
   "execution_count": 11,
   "metadata": {},
   "outputs": [
    {
     "name": "stdout",
     "output_type": "stream",
     "text": [
      "A área do círculo cujo raio é 10.0cm é 314.16\n"
     ]
    }
   ],
   "source": [
    "import math\n",
    "\n",
    "raio = float(input(\"Entre com o valor do raio da círculo (em cm): \"))\n",
    "area = math.pi * raio * raio\n",
    "print(f\"A área do círculo cujo raio é {raio}cm é {area:.2f}\")"
   ]
  },
  {
   "attachments": {},
   "cell_type": "markdown",
   "metadata": {},
   "source": [
    "#### 7) Faça um Programa que calcule a área de um quadrado, em seguida mostre o dobro desta área para o usuário."
   ]
  },
  {
   "cell_type": "code",
   "execution_count": 12,
   "metadata": {},
   "outputs": [
    {
     "name": "stdout",
     "output_type": "stream",
     "text": [
      "A área do quadrado é 100.0 e o dobro da área é 200.0\n"
     ]
    }
   ],
   "source": [
    "lado = float(input(\"Entre com o lado do quadrado: \"))\n",
    "area = lado * lado\n",
    "print(f\"A área do quadrado é {area} e o dobro da área é {2 * area}\")"
   ]
  },
  {
   "attachments": {},
   "cell_type": "markdown",
   "metadata": {},
   "source": [
    "#### 8) Faça um Programa que pergunte quanto você ganha por hora e o número de horas trabalhadas no mês. Calcule e mostre o total do seu salário no referido mês."
   ]
  },
  {
   "cell_type": "code",
   "execution_count": 13,
   "metadata": {},
   "outputs": [
    {
     "name": "stdout",
     "output_type": "stream",
     "text": [
      "Considerando os valores informados o seu salário do mês será: R$3000.0\n"
     ]
    }
   ],
   "source": [
    "valorPorHora = float(input(\"Entre com o valor da sua remuneração por hora: R$ \"))\n",
    "horasTrabalhadas = int(input(\"Entre com o número de horas trabalhadas no mês: \"))\n",
    "salario = valorPorHora * horasTrabalhadas\n",
    "print(f\"Considerando os valores informados o seu salário do mês será: R${salario}\")\n"
   ]
  },
  {
   "attachments": {},
   "cell_type": "markdown",
   "metadata": {},
   "source": [
    "#### 9) Faça um Programa que peça a temperatura em graus Farenheit, transforme e mostre a temperatura em graus Celsius"
   ]
  },
  {
   "cell_type": "code",
   "execution_count": 16,
   "metadata": {},
   "outputs": [
    {
     "name": "stdout",
     "output_type": "stream",
     "text": [
      "A temeperatura em 100.0ºF equivale a 37.78ºC\n"
     ]
    }
   ],
   "source": [
    "fah = float(input(\"Insira a temperatura em graus Farenheit: \"))\n",
    "celsius =  (fah -32) * 5/9\n",
    "print(f\"A temperatura em {fah}ºF equivale a {celsius:.2f}ºC\")\n"
   ]
  },
  {
   "attachments": {},
   "cell_type": "markdown",
   "metadata": {},
   "source": [
    "#### 10) Faça um Programa que peça a temperatura em graus Celsius, transforme e mostre em graus Farenheit."
   ]
  },
  {
   "cell_type": "code",
   "execution_count": 19,
   "metadata": {},
   "outputs": [
    {
     "name": "stdout",
     "output_type": "stream",
     "text": [
      "A temperatura em 100.0ºC equivale a 212.00ºF\n"
     ]
    }
   ],
   "source": [
    "celsius = float(input(\"Insira a temperarura em graus Celsius:\"))\n",
    "fah = (celsius * 9/5) + 32\n",
    "print(f\"A temperatura em {celsius}ºC equivale a {fah:.2f}ºF\")"
   ]
  },
  {
   "attachments": {},
   "cell_type": "markdown",
   "metadata": {},
   "source": [
    "#### 11) Faça um Programa que peça 2 números inteiros e um número real. Calcule e mostre: o produto do dobro do primeiro com metade do segundo. a soma do triplo do primeiro com o terceiro. o terceiro elevado ao cubo."
   ]
  },
  {
   "cell_type": "code",
   "execution_count": 21,
   "metadata": {},
   "outputs": [
    {
     "name": "stdout",
     "output_type": "stream",
     "text": [
      " O produto do dobro do primeiro com a metade do segundo é: 2.0\n",
      "A soma do triplo do primeiro com o terceiro é: 4.5\n",
      "O terceiro elevado ao cubo: 3.375\n"
     ]
    }
   ],
   "source": [
    "x1 = int(input(\"Inisra um número inteiro: \"))\n",
    "x2 = int(input(\"Inisra outro número inteiro: \"))\n",
    "x3 = float(input(\"Insira um número real: \"))\n",
    "print(f\"O produto do dobro do primeiro com a metade do segundo é: {(2*x1) * (x2/2)}\")\n",
    "print(f\"A soma do triplo do primeiro com o terceiro é: {x1*3 + x3}\")\n",
    "print(f\"O terceiro elevado ao cubo: {x3 * x3 * x3}\")"
   ]
  },
  {
   "attachments": {},
   "cell_type": "markdown",
   "metadata": {},
   "source": [
    "### 12) Tendo como dados de entrada a altura de uma pessoa, construa um algoritmo que calcule seu peso ideal, usando a seguinte fórmula: (72.7*altura) - 58"
   ]
  },
  {
   "cell_type": "code",
   "execution_count": 24,
   "metadata": {},
   "outputs": [
    {
     "name": "stdout",
     "output_type": "stream",
     "text": [
      "Para a altura de 1.6m o peso ideal seria de 58.32kg\n"
     ]
    }
   ],
   "source": [
    "altura = float(input(\"Insira o altura da pessoa: \"))\n",
    "pesoIdeal = (72.7 * altura) - 58\n",
    "print(f\"Para a altura de {altura}m o peso ideal seria de {pesoIdeal:.2f}kg\")"
   ]
  },
  {
   "attachments": {},
   "cell_type": "markdown",
   "metadata": {},
   "source": [
    "### 13) Tendo como dado de entrada a altura (h) de uma pessoa, construa um algoritmo que calcule seu peso ideal, utilizando as seguintes fórmulas: Para homens: (72.7*h) - 58 , Para mulheres: (62.1*h) - 44.7"
   ]
  },
  {
   "cell_type": "code",
   "execution_count": 27,
   "metadata": {},
   "outputs": [
    {
     "name": "stdout",
     "output_type": "stream",
     "text": [
      "Para a altura de 1.7m o peso ideal seria de 65.59kg caso seja um homem e 60.87kg caso seja uma mulher\n"
     ]
    }
   ],
   "source": [
    "altura = float(input(\"Insira o altura da pessoa: \"))\n",
    "pesoIdealHomem = (72.7 * altura) - 58\n",
    "pesoidealMulher = (62.1 * altura) - 44.7\n",
    "print(f\"Para a altura de {altura}m o peso ideal seria de {pesoIdealHomem:.2f}kg caso seja um homem e {pesoidealMulher:.2f}kg caso seja uma mulher\")"
   ]
  },
  {
   "attachments": {},
   "cell_type": "markdown",
   "metadata": {},
   "source": [
    "#### 14) João Papo-de-Pescador, homem de bem, comprou um microcomputador para controlar o rendimento diário de seu trabalho. Toda vez que ele traz um peso de peixes maior que o estabelecido pelo regulamento de pesca do estado de São Paulo (50 quilos) deve pagar uma multa de R$ 4,00 por quilo excedente. João precisa que você faça um programa que leia a variável peso (peso de peixes) e calcule o excesso. Gravar na variável excesso a quantidade de quilos além do limite e na variável multao valor da multa que João deverá pagar. Imprima os dados do programa com as mensagens adequadas."
   ]
  },
  {
   "cell_type": "code",
   "execution_count": 30,
   "metadata": {},
   "outputs": [
    {
     "name": "stdout",
     "output_type": "stream",
     "text": [
      "O peso dos peixes está dentro do estabelecido pelo regulamento de pesca do Estado de SP\n"
     ]
    }
   ],
   "source": [
    "peso = float(input(\"Informe o peso dos peixes em kg: \"))\n",
    "if peso > 50:\n",
    "    excedente = peso - 50\n",
    "    multa = excedente * 4\n",
    "    print(f\"O excedente além do permitido foi de {excedente}kg e a multa será de R${multa:.2f}\")\n",
    "else:\n",
    "    print(\"O peso dos peixes está dentro do estabelecido pelo regulamento de pesca do Estado de SP\")"
   ]
  },
  {
   "attachments": {},
   "cell_type": "markdown",
   "metadata": {},
   "source": [
    "#### 15) Faça um Programa que pergunte quanto você ganha por hora e o número de horas trabalhadas no mês. Calcule e mostre o total do seu salário no referido mês, sabendo-se que são descontados 11% para o Imposto de Renda, 8% para o INSS e 5% para o sindicato, faça um programa que nos dê: salário bruto. quanto pagou ao INSS. quanto pagou ao sindicato. o salário líquido."
   ]
  },
  {
   "cell_type": "code",
   "execution_count": 31,
   "metadata": {},
   "outputs": [
    {
     "name": "stdout",
     "output_type": "stream",
     "text": [
      "+ Salário bruto : R$3000.0\n",
      "- IR : R$330.0\n",
      "- INSS : R$240.0\n",
      "- Sindicato : R$150.0\n",
      "= Salário líquido = R$2280.0\n"
     ]
    }
   ],
   "source": [
    "valorPorHora = float(input(\"Entre com o valor da sua remuneração por hora: R$ \"))\n",
    "horasTrabalhadas = int(input(\"Entre com o número de horas trabalhadas no mês: \"))\n",
    "salarioBruto = valorPorHora * horasTrabalhadas\n",
    "ir = salarioBruto * (0.11)\n",
    "inss = salarioBruto * (0.08)\n",
    "sindicato = salarioBruto * (0.05)\n",
    "salarioLiquido = salarioBruto - ir - inss - sindicato\n",
    "print(f\"+ Salário bruto : R${salarioBruto}\")\n",
    "print(f\"- IR : R${ir}\")\n",
    "print(f\"- INSS : R${inss}\")\n",
    "print(f\"- Sindicato : R${sindicato}\")\n",
    "print(f\"= Salário líquido = R${salarioLiquido}\")\n"
   ]
  },
  {
   "attachments": {},
   "cell_type": "markdown",
   "metadata": {},
   "source": [
    "#### 16) Faça um programa para uma loja de tintas. O programa deverá pedir o tamanho em metros quadrados da área a ser pintada. Considere que a cobertura da tinta é de 1 litro para cada 3 metros quadrados e que a tinta é vendida em latas de 18 litros, que custam R$ 80,00. Informe ao usuário a quantidades de latas de tinta a serem compradas e o preço total."
   ]
  },
  {
   "cell_type": "code",
   "execution_count": 36,
   "metadata": {},
   "outputs": [
    {
     "name": "stdout",
     "output_type": "stream",
     "text": [
      "Para printar uma parede de 100.0m² será necessário(s) 2 lata(s) de tinta e preço total dessas lata(s) será de R$160.0\n"
     ]
    }
   ],
   "source": [
    "import math\n",
    "\n",
    "metros = float(input(\"Insira o tamanho em metros quadrados da área a ser pintada: \"))\n",
    "latas = math.ceil((metros / 3 ) / 18)\n",
    "precototal = latas * 80.00\n",
    "print(f\"Para printar uma parede de {metros}m² será necessário(s) {latas} lata(s) de tinta e preço total dessas lata(s) será de R${precototal}\")"
   ]
  },
  {
   "attachments": {},
   "cell_type": "markdown",
   "metadata": {},
   "source": [
    "### 17) Faça um Programa para uma loja de tintas. O programa deverá pedir o tamanho em metros quadrados da área a ser pintada. Considere que a cobertura da tinta é de 1 litro para cada 6 metros quadrados e que a tinta é vendida em latas de 18 litros, que custam R$ 80,00 ou em galões de 3,6 litros, que custam R$ 25,00. Informe ao usuário as quantidades de tinta a serem compradas e os respectivos preços em 3 situações: comprar apenas latas de 18 litros; comprar apenas galões de 3,6 litros; misturar latas e galões, de forma que o preço seja o menor. Acrescente 10% de folga e sempre arredonde os valores para cima, isto é, considere latas cheias."
   ]
  },
  {
   "cell_type": "code",
   "execution_count": 42,
   "metadata": {},
   "outputs": [
    {
     "name": "stdout",
     "output_type": "stream",
     "text": [
      "Para pintar uma parede de 180.0m com folga, preciariamos de:\n",
      "2 latas a um valor de R$160.0, somente considerando utilizar latas\n",
      "10 galões a uma preço de R$250, considerando usar apenas galões\n",
      "2.0 latas e 0 galões a um preço de R$160.0, considerando que é possível usar latas e galões\n"
     ]
    }
   ],
   "source": [
    "import math\n",
    "\n",
    "metros = float(input(\"Insira o tamanho em metros quadrados da área a ser pintada: \"))\n",
    "litros = (1.1 * metros) / 6 \n",
    "\n",
    "# Situação 01 (somente latas)\n",
    "latas1 = math.ceil(litros / 18)\n",
    "precolatas = latas * 80.00\n",
    "\n",
    "# Situação 02 (somente galões)\n",
    "galao1 = math.ceil( litros /3.6)\n",
    "precogalao = galao1 * 25\n",
    "\n",
    "# Situação 03 (latas e galões)\n",
    "latas2 = litros // 18 \n",
    "resto = litros / 18 - (latas2)\n",
    "galao2 = 0\n",
    "if resto > 0.6:\n",
    "    latas2 = latas2 + 1\n",
    "else:\n",
    "    galao2 = math.ceil((resto *18) / 3.6)\n",
    "precoTotal = (latas2 * 80) + (galao2 * 25)\n",
    "\n",
    "print(f\"Para pintar uma parede de {metros}m com folga, preciariamos de:\")\n",
    "print(f\"{latas1} latas a um valor de R${precolatas}, somente considerando utilizar latas\")\n",
    "print(f\"{galao1} galões a uma preço de R${precogalao}, considerando usar apenas galões\")\n",
    "print(f\"{latas2} latas e {galao2} galões a um preço de R${precoTotal}, considerando que é possível usar latas e galões\")\n",
    "    \n",
    "\n",
    "\n"
   ]
  },
  {
   "attachments": {},
   "cell_type": "markdown",
   "metadata": {},
   "source": [
    "#### 18) Faça um programa que peça o tamanho de um arquivo para download (em MB) e a velocidade de um link de Internet (em Mbps), calcule e informe o tempo aproximado de download do arquivo usando este link (em minutos)"
   ]
  },
  {
   "cell_type": "code",
   "execution_count": 56,
   "metadata": {},
   "outputs": [
    {
     "name": "stdout",
     "output_type": "stream",
     "text": [
      "O tempo aproximado para o download desse arquivo é 1.33 minutos\n"
     ]
    }
   ],
   "source": [
    "arquivo = float(input(\"Insira o tamanho do arquivo para download (em MB): \"))\n",
    "velocidade = float(input(\"Insira a velocidade da internet (em Mbps): \"))\n",
    "\n",
    "segundos = (arquivo * 8) / velocidade\n",
    "minutos = segundos / 60\n",
    "\n",
    "print(f\"O tempo aproximado para o download desse arquivo é {minutos:.2f} minutos\")"
   ]
  }
 ],
 "metadata": {
  "kernelspec": {
   "display_name": "Python 3",
   "language": "python",
   "name": "python3"
  },
  "language_info": {
   "codemirror_mode": {
    "name": "ipython",
    "version": 3
   },
   "file_extension": ".py",
   "mimetype": "text/x-python",
   "name": "python",
   "nbconvert_exporter": "python",
   "pygments_lexer": "ipython3",
   "version": "3.11.1"
  },
  "orig_nbformat": 4
 },
 "nbformat": 4,
 "nbformat_minor": 2
}
