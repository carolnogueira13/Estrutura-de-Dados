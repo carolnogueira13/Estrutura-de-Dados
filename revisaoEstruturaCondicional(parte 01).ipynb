{
 "cells": [
  {
   "attachments": {},
   "cell_type": "markdown",
   "metadata": {},
   "source": [
    "# Revisão 02 - estrutura condicional Parte 01"
   ]
  },
  {
   "attachments": {},
   "cell_type": "markdown",
   "metadata": {},
   "source": [
    "#### 1) Faça um Programa que peça dois números e imprima o maior deles."
   ]
  },
  {
   "cell_type": "code",
   "execution_count": 4,
   "metadata": {},
   "outputs": [
    {
     "name": "stdout",
     "output_type": "stream",
     "text": [
      "Os números informados são iguais\n"
     ]
    }
   ],
   "source": [
    "x1 = int(input(\"Insira o primeiro número: \"))\n",
    "x2 = int(input(\"Insira o segundo número: \"))\n",
    "if x1 > x2:\n",
    "    print(f\"O maior número informado é {x1}\")\n",
    "elif x2 > x1:\n",
    "    print(f\"O maior número informado é {x2}\")\n",
    "else:\n",
    "    print(\"Os números informados são iguais\")"
   ]
  },
  {
   "attachments": {},
   "cell_type": "markdown",
   "metadata": {},
   "source": [
    "#### 2) Faça um Programa que peça um valor e mostre na tela se o valor é positivo ou negativo."
   ]
  },
  {
   "cell_type": "code",
   "execution_count": 7,
   "metadata": {},
   "outputs": [
    {
     "name": "stdout",
     "output_type": "stream",
     "text": [
      "O número informado é igual a zero\n"
     ]
    }
   ],
   "source": [
    "x = int(input(\"Insira um número:\"))\n",
    "if x > 0:\n",
    "    print(\"O número informado é positivo\")\n",
    "elif x < 0:\n",
    "    print(\"O número informado é negativo\")\n",
    "else:\n",
    "    print(\"O número informado é igual a zero\")"
   ]
  },
  {
   "attachments": {},
   "cell_type": "markdown",
   "metadata": {},
   "source": [
    "#### 3) Faça um Programa que verifique se uma letra digitada é \"F\" ou \"M\". Conforme a letra escrever: F - Feminino, M - Masculino, Sexo Inválido."
   ]
  },
  {
   "cell_type": "code",
   "execution_count": 11,
   "metadata": {},
   "outputs": [
    {
     "name": "stdout",
     "output_type": "stream",
     "text": [
      "Sexo inválido\n"
     ]
    }
   ],
   "source": [
    "genero = str(input(\"Informe seu sexo: [F/M] \")).strip().upper()\n",
    "if genero == \"F\":\n",
    "    print(\"F - Feminino\")\n",
    "elif genero == \"M\":\n",
    "    print(\"M - Masculino\")\n",
    "else:\n",
    "    print(\"Sexo inválido\")\n",
    "    "
   ]
  },
  {
   "attachments": {},
   "cell_type": "markdown",
   "metadata": {},
   "source": [
    "#### 4) Faça um Programa que verifique se uma letra digitada é vogal ou consoante."
   ]
  },
  {
   "cell_type": "code",
   "execution_count": 21,
   "metadata": {},
   "outputs": [
    {
     "name": "stdout",
     "output_type": "stream",
     "text": [
      "Você informou um caractere especial. O caractere '!'\n"
     ]
    }
   ],
   "source": [
    "letra = str(input(\"Informe uma letra: \")).upper().strip()\n",
    "if letra in (\"A\", \"E\", \"I\", \"O\", \"U\", \"Y\"):\n",
    "    print(f\"A letra informada '{letra}' é uma vogal.\")\n",
    "elif letra in (\"B\", \"C\", \"D\", \"F\", \"G\", \"H\", \"J\", \"K\", \"L\", \"M\", \"N\", \"P\", \"Q\", \"R\", \"S\", \"T\", \"V\", \"X\", \"Z\", \"K\"):\n",
    "    print(f\"A letra informada '{letra}' é uma consoante\")\n",
    "elif letra == \"W\":\n",
    "    print(f\"De acordo com o alfabeto brasileiro o '{letra}' pode ser tanto uma vogal ou consoante dependendo da palavra\")\n",
    "else:\n",
    "    print(f\"Você informou um caractere especial. O caractere '{letra}'\")\n",
    "    "
   ]
  },
  {
   "attachments": {},
   "cell_type": "markdown",
   "metadata": {},
   "source": [
    "#### 5) Faça um programa para a leitura de duas notas parciais de um aluno. O programa deve calcular a média alcançada por aluno e apresentar: \n",
    "- A mensagem \"Aprovado\", se a média alcançada for maior ou igual a sete;\n",
    "- A mensagem \"Reprovado\", se a média for menor do que sete;\n",
    "- A mensagem \"Aprovado com Distinção\", se a média for igual a dez."
   ]
  },
  {
   "cell_type": "code",
   "execution_count": 24,
   "metadata": {},
   "outputs": [
    {
     "name": "stdout",
     "output_type": "stream",
     "text": [
      "Reprovado.\n"
     ]
    }
   ],
   "source": [
    "nota1 = float(input(\"Digite a primeira nota do estudante: \"))\n",
    "nota2 = float(input(\"Digite a segunda nota do estudante: \"))\n",
    "media = (nota1 + nota2)/2\n",
    "if media == 10:\n",
    "    print(\"Aprovado com distinção.\")\n",
    "elif media >= 7:\n",
    "    print(\"Aprovado.\")\n",
    "else:\n",
    "    print(\"Reprovado.\")"
   ]
  },
  {
   "attachments": {},
   "cell_type": "markdown",
   "metadata": {},
   "source": [
    "### 6) Faça um Programa que leia três números e mostre o maior deles."
   ]
  },
  {
   "cell_type": "code",
   "execution_count": 27,
   "metadata": {},
   "outputs": [
    {
     "name": "stdout",
     "output_type": "stream",
     "text": [
      "[3.0, 2.0, 1.0]\n",
      "Dos números informados a maior é o 3.0\n"
     ]
    }
   ],
   "source": [
    "lista = list()\n",
    "for i in range(3):\n",
    "    x = float(input(\"Informe um numero\"))\n",
    "    lista.append(x)\n",
    "\n",
    "lista.sort(reverse=True)\n",
    "print(f\"Dos números informados a maior é o {lista[0]}\")"
   ]
  },
  {
   "attachments": {},
   "cell_type": "markdown",
   "metadata": {},
   "source": [
    "#### 7) Faça um Programa que leia três números e mostre o maior e o menor deles."
   ]
  },
  {
   "cell_type": "code",
   "execution_count": 31,
   "metadata": {},
   "outputs": [
    {
     "name": "stdout",
     "output_type": "stream",
     "text": [
      "Dos números informados a menor é o 2.0\n"
     ]
    }
   ],
   "source": [
    "lista = list()\n",
    "for i in range(3):\n",
    "    x = float(input(\"Informe um numero\"))\n",
    "    lista.append(x)\n",
    "\n",
    "lista.sort()\n",
    "print(f\"Dos números informados a menor é o {lista[0]}\")"
   ]
  },
  {
   "attachments": {},
   "cell_type": "markdown",
   "metadata": {},
   "source": [
    "#### 8) Faça um programa que pergunte o preço de três produtos e informe qual produto você deve comprar, sabendo que a decisão é sempre pelo mais barato."
   ]
  },
  {
   "cell_type": "code",
   "execution_count": 37,
   "metadata": {},
   "outputs": [
    {
     "name": "stdout",
     "output_type": "stream",
     "text": [
      "O produto de menor preço custa R$11.00\n"
     ]
    }
   ],
   "source": [
    "lista = list()\n",
    "for i in range(1,4):\n",
    "    x = float(input(f\"Informe um preço do {i}º produto: R$\"))\n",
    "    lista.append(x)\n",
    "\n",
    "lista.sort()\n",
    "print(f\"O produto de menor preço custa R${lista[0]:.2f}\")\n"
   ]
  },
  {
   "attachments": {},
   "cell_type": "markdown",
   "metadata": {},
   "source": [
    "#### 9) Faça um Programa que leia três números e mostre-os em ordem decrescente."
   ]
  },
  {
   "cell_type": "code",
   "execution_count": 40,
   "metadata": {},
   "outputs": [
    {
     "name": "stdout",
     "output_type": "stream",
     "text": [
      "Os números informados em descrescente: 34 10 2 "
     ]
    }
   ],
   "source": [
    "lista = list()\n",
    "for i in range(3):\n",
    "    x = int(input(\"Informe um numero\"))\n",
    "    lista.append(x)\n",
    "\n",
    "lista.sort(reverse=True)\n",
    "print(\"Os números informados em descrescente: \", end=\"\")\n",
    "for numero in lista:\n",
    "    print(f\"{numero}\", end=\" \")\n"
   ]
  },
  {
   "attachments": {},
   "cell_type": "markdown",
   "metadata": {},
   "source": [
    "#### 10) Faça um Programa que pergunte em que turno você estuda. Peça para digitar M-matutino ou V-Vespertino ou N- Noturno. Imprima a mensagem \"Bom Dia!\", \"Boa Tarde!\" ou \"Boa Noite!\" ou \"Valor Inválido!\", conforme o caso."
   ]
  },
  {
   "cell_type": "code",
   "execution_count": 45,
   "metadata": {},
   "outputs": [
    {
     "name": "stdout",
     "output_type": "stream",
     "text": [
      "Valor inválido!\n"
     ]
    }
   ],
   "source": [
    "turno = str(input(\"Informe o turno que você estuda [M - Matutino, V - Vespertino, N - Noturno]: \")).strip().upper()[0]\n",
    "if turno == \"M\":\n",
    "    print(\"Bom dia!\")\n",
    "elif turno == \"V\":\n",
    "    print(\"Boa tarde!\")\n",
    "elif turno == \"N\":\n",
    "    print(\"Boa noite!\")\n",
    "else: \n",
    "    print(\"Valor inválido!\")\n",
    "    "
   ]
  },
  {
   "attachments": {},
   "cell_type": "markdown",
   "metadata": {},
   "source": [
    "#### 11) As Organizações Tabajara resolveram dar um aumento de salário aos seus colaboradores e lhe contraram para desenvolver o programa que calculará os reajustes. Faça um programa que recebe o salário de um colaborador e o reajuste segundo o seguinte critério, baseado no salário atual:\n",
    "- salários até R$ 280,00 (incluindo) : aumento de 20%\n",
    "- salários entre R$ 280,00 e R$ 700,00 : aumento de 15%\n",
    "- salários entre R$ 700,00 e R$ 1500,00 : aumento de 10%\n",
    "- salários de R$ 1500,00 em diante : aumento de 5% Após o aumento ser realizado, informe na tela:\n",
    "- o salário antes do reajuste;\n",
    "- o percentual de aumento aplicado;\n",
    "- o valor do aumento;\n",
    "- o novo salário, após o aumento."
   ]
  },
  {
   "cell_type": "code",
   "execution_count": 49,
   "metadata": {},
   "outputs": [
    {
     "name": "stdout",
     "output_type": "stream",
     "text": [
      "Salário antes do ajuste: R$280.0\n",
      "Percentual de aumento: 20%\n",
      "Aumento: R$56.0\n",
      "Novo salário: R$336.0\n"
     ]
    }
   ],
   "source": [
    "salario = float(input(\"Informe o seu salário: \"))\n",
    "if salario > 1500:\n",
    "    percentual = 5\n",
    "elif salario > 700:\n",
    "    percentual = 10\n",
    "elif salario > 280:\n",
    "    percentual = 15\n",
    "else:\n",
    "    percentual = 20\n",
    "aumento = salario * (percentual/100)\n",
    "salarioNovo = salario + aumento\n",
    "\n",
    "print(f\"Salário antes do ajuste: R${salario}\")\n",
    "print(f\"Percentual de aumento: {percentual}%\")\n",
    "print(f\"Aumento: R${aumento}\")\n",
    "print(f\"Novo salário: R${salarioNovo}\")"
   ]
  },
  {
   "attachments": {},
   "cell_type": "markdown",
   "metadata": {},
   "source": [
    "#### 12) Faça um programa para o cálculo de uma folha de pagamento, sabendo que os descontos são do Imposto de Renda, que depende do salário bruto (conforme tabela abaixo) e 3% para o Sindicato e que o FGTS corresponde a 11% do Salário Bruto, mas não é descontado (é a empresa que deposita). O Salário Líquido corresponde ao Salário Bruto menos os descontos. O programa deverá pedir ao usuário o valor da sua hora e a quantidade de horas trabalhadas no mês. Desconto do IR:\n",
    "- Salário Bruto até 900 (inclusive) - isento\n",
    "- Salário Bruto até 1500 (inclusive) - desconto de 5%\n",
    "- Salário Bruto até 2500 (inclusive) - desconto de 10%\n",
    "- Salário Bruto acima de 2500 - desconto de 20% Imprima na tela as informações, dispostas conforme o exemplo abaixo."
   ]
  },
  {
   "cell_type": "code",
   "execution_count": 52,
   "metadata": {},
   "outputs": [
    {
     "name": "stdout",
     "output_type": "stream",
     "text": [
      "Salário bruto: (5.0 * 220) :R$1100.0\n",
      "(-) IR (5%) : R$55.0\n",
      "(-) INSS(10%) : R$110.0\n",
      "FGTS(11%) : R$121.0\n",
      "Total de descontos: R$165.0 \n",
      "Salário líquido = R$935.0\n"
     ]
    }
   ],
   "source": [
    "valorPorHora = float(input(\"Entre com o valor da sua remuneração por hora: R$ \"))\n",
    "horasTrabalhadas = int(input(\"Entre com o número de horas trabalhadas no mês: \"))\n",
    "salarioBruto = valorPorHora * horasTrabalhadas\n",
    "\n",
    "if salarioBruto > 2500:\n",
    "    ir = 20\n",
    "elif salarioBruto > 1500:\n",
    "    ir = 10\n",
    "elif salarioBruto > 900:\n",
    "    ir = 5\n",
    "else:\n",
    "    ir = 0\n",
    "\n",
    "descontoIR = salarioBruto * (ir/100)\n",
    "inss = salarioBruto * (0.10)\n",
    "fgts = salarioBruto * (0.11)\n",
    "salarioLiquido = salarioBruto - descontoIR - inss\n",
    "print(f\"Salário bruto: ({valorPorHora} * {horasTrabalhadas}) :R${salarioBruto}\")\n",
    "print(f\"(-) IR ({ir}%) : R${descontoIR}\")\n",
    "print(f\"(-) INSS(10%) : R${inss}\")\n",
    "print(f\"FGTS(11%) : R${fgts}\")\n",
    "print(f\"Total de descontos: R${descontoIR + inss} \")\n",
    "print(f\"Salário líquido = R${salarioLiquido}\")"
   ]
  },
  {
   "attachments": {},
   "cell_type": "markdown",
   "metadata": {},
   "source": [
    "#### 13) Faça um Programa que leia um número e exiba o dia correspondente da semana. (1-Domingo, 2- Segunda, etc.), se digitar outro valor deve aparecer valor inválido."
   ]
  },
  {
   "cell_type": "code",
   "execution_count": 55,
   "metadata": {},
   "outputs": [
    {
     "name": "stdout",
     "output_type": "stream",
     "text": [
      "Valor inválido\n"
     ]
    }
   ],
   "source": [
    "dia = int(input(\"Dia de semana (informe um número): \"))\n",
    "\n",
    "match dia:\n",
    "    case 1:\n",
    "        print(\"1 - Domingo\")\n",
    "    case 2:\n",
    "        print(\"2 - Segunda\")\n",
    "    case 3:\n",
    "        print(\"3 - Terça\")\n",
    "    case 4:\n",
    "        print(\"4 - Quarta\")\n",
    "    case 5:\n",
    "        print(\"5 - Quinta\")\n",
    "    case 6:\n",
    "        print(\"6- Sexta\")\n",
    "    case 7:\n",
    "        print(\"7 - Sábado\")\n",
    "    case _:\n",
    "        print(\"Valor inválido\")"
   ]
  },
  {
   "attachments": {},
   "cell_type": "markdown",
   "metadata": {},
   "source": [
    "#### 14) Faça um programa que lê as duas notas parciais obtidas por um aluno numa disciplina ao longo de um semestre, e calcule a sua média. A atribuição de conceitos obedece à tabela abaixo:\n",
    "  - Média de Aproveitamento  Conceito\n",
    "  - Entre 9.0 e 10.0        A\n",
    "  - Entre 7.5 e 9.0         B\n",
    "  - Entre 6.0 e 7.5         C\n",
    "  - Entre 4.0 e 6.0         D\n",
    "  - Entre 4.0 e zero        E\n",
    "#### O algoritmo deve mostrar na tela as notas, a média, o conceito correspondente e a mensagem “APROVADO” se o conceito for A, B ou C ou “REPROVADO” se o conceito for D ou E."
   ]
  },
  {
   "cell_type": "code",
   "execution_count": 64,
   "metadata": {},
   "outputs": [
    {
     "name": "stdout",
     "output_type": "stream",
     "text": [
      "Notas do aluno: 7.5 e 7.5\n",
      "Média: 7.50\n",
      "Conceito: C\n",
      "Status: APROVADO\n"
     ]
    }
   ],
   "source": [
    "nota1 = float(input(\"Primeira nota: \"))\n",
    "nota2 = float(input(\"Segunda nota: \"))\n",
    "\n",
    "media = (nota1 + nota2)/2\n",
    "\n",
    "\n",
    "if 9 < media <= 10:\n",
    "    conceito = \"A\"\n",
    "elif media > 7.5:\n",
    "    conceito = \"B\"\n",
    "elif media > 6:\n",
    "    conceito = \"C\"\n",
    "elif media > 4:\n",
    "    conceito = \"D\"\n",
    "else:\n",
    "    conceito = \"E\"\n",
    "\n",
    "if conceito in (\"A\", \"B\", \"C\"):\n",
    "    status = \"APROVADO\"\n",
    "else: \n",
    "    status = \"REPROVADO\"\n",
    "\n",
    "print(f\"Notas do aluno: {nota1} e {nota2}\")\n",
    "print(f\"Média: {media:.2f}\")\n",
    "print(f\"Conceito: {conceito}\")\n",
    "print(f\"Status: {status}\")\n",
    "\n",
    "    \n",
    "\n",
    "    "
   ]
  }
 ],
 "metadata": {
  "kernelspec": {
   "display_name": "Python 3",
   "language": "python",
   "name": "python3"
  },
  "language_info": {
   "codemirror_mode": {
    "name": "ipython",
    "version": 3
   },
   "file_extension": ".py",
   "mimetype": "text/x-python",
   "name": "python",
   "nbconvert_exporter": "python",
   "pygments_lexer": "ipython3",
   "version": "3.11.1"
  },
  "orig_nbformat": 4
 },
 "nbformat": 4,
 "nbformat_minor": 2
}
